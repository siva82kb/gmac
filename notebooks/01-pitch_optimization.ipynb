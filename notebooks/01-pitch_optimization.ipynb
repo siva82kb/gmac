{
  "cells": [
    {
      "attachments": {},
      "cell_type": "markdown",
      "metadata": {},
      "source": [
        "# GMAC Pitch: Grid search of GMAC parameters\n",
        "\n",
        "The pitch estimation for the GMAC algorithm has the following parameters:\n",
        "1. Moving average window size for pitch estimation. $\\left( n_{p} \\right)$"
      ]
    },
    {
      "attachments": {},
      "cell_type": "markdown",
      "metadata": {},
      "source": [
        "### Getting the data\n",
        "\n",
        "If you do not already have the data to run this this notebook, you need to download it from here.  https://github.com/biorehab/upper-limb-use-assessment"
      ]
    },
    {
      "attachments": {},
      "cell_type": "markdown",
      "metadata": {},
      "source": [
        "### Standards modules"
      ]
    },
    {
      "cell_type": "code",
      "execution_count": 1,
      "metadata": {},
      "outputs": [],
      "source": [
        "%reload_ext autoreload\n",
        "%autoreload 2"
      ]
    },
    {
      "cell_type": "code",
      "execution_count": 13,
      "metadata": {},
      "outputs": [],
      "source": [
        "import sys\n",
        "import os\n",
        "import numpy as np\n",
        "import pandas as pd\n",
        "import matplotlib.pyplot as plt\n",
        "from scipy.stats import pearsonr\n",
        "import scipy\n",
        "from scipy import signal\n",
        "import pathlib\n",
        "import itertools\n",
        "import glob\n",
        "import json"
      ]
    },
    {
      "cell_type": "code",
      "execution_count": 3,
      "metadata": {},
      "outputs": [],
      "source": [
        "import seaborn as sns"
      ]
    },
    {
      "attachments": {},
      "cell_type": "markdown",
      "metadata": {
        "id": "CmFNtZKR71KW"
      },
      "source": [
        "### Custom Modules"
      ]
    },
    {
      "cell_type": "code",
      "execution_count": 4,
      "metadata": {
        "colab": {
          "base_uri": "https://localhost:8080/"
        },
        "id": "MjSXcfJ-8Pyq",
        "outputId": "ee0f6d9a-a224-4a12-f481-db1f6e0d50af"
      },
      "outputs": [],
      "source": [
        "sys.path.append(\"../scripts\")\n",
        "\n",
        "import classification_algorithms as ca\n",
        "import reduced_models as rm\n",
        "import task_analysis as ta\n",
        "\n",
        "import misc"
      ]
    },
    {
      "cell_type": "code",
      "execution_count": 5,
      "metadata": {},
      "outputs": [],
      "source": [
        "import gmac"
      ]
    },
    {
      "cell_type": "code",
      "execution_count": 6,
      "metadata": {},
      "outputs": [],
      "source": [
        "# Define the font family and size\n",
        "# font = {'family': 'sans-serif', 'sans-serif': ['Helvetica']}\n",
        "\n",
        "# # Set the font properties for various elements\n",
        "# plt.rc('font', **font)\n",
        "\n",
        "plt.rcParams['svg.fonttype'] = 'none'\n",
        "plt.rcParams['font.family'] = 'sans-serif'\n",
        "plt.rcParams['font.sans-serif'] = ['Helvetica']\n",
        "plt.rcParams['font.weight'] = 'light'  # Use 'light' font weight\n"
      ]
    },
    {
      "attachments": {},
      "cell_type": "markdown",
      "metadata": {},
      "source": [
        "## Define notebook level constants"
      ]
    },
    {
      "cell_type": "code",
      "execution_count": 7,
      "metadata": {},
      "outputs": [],
      "source": [
        "# Sampling rate for the data is 50ms\n",
        "dT = 0.02\n",
        "Fs = int(1 / dT)"
      ]
    },
    {
      "attachments": {},
      "cell_type": "markdown",
      "metadata": {},
      "source": [
        "## Read the Controls and Patients Data"
      ]
    },
    {
      "cell_type": "code",
      "execution_count": 8,
      "metadata": {
        "id": "mSMQTzY48cme"
      },
      "outputs": [],
      "source": [
        "# Read healthy and control data\n",
        "left, right = misc.read_data(subject_type='control')\n",
        "aff, unaff = misc.read_data(subject_type='patient')\n",
        "\n",
        "# Assign segments for each subject\n",
        "left = pd.concat([misc.assign_segments(left[left.subject == subj], dur_th=1, dT=dT)\n",
        "                  for subj in left.subject.unique()], axis=0)\n",
        "right = pd.concat([misc.assign_segments(right[right.subject == subj], dur_th=1, dT=dT)\n",
        "                   for subj in right.subject.unique()])\n",
        "aff = pd.concat([misc.assign_segments(aff[aff.subject == subj], dur_th=1, dT=dT)\n",
        "                 for subj in aff.subject.unique()])\n",
        "unaff = pd.concat([misc.assign_segments(unaff[unaff.subject == subj], dur_th=1, dT=dT)\n",
        "                   for subj in unaff.subject.unique()])\n",
        "\n",
        "# All limbs data ddf\n",
        "datadf = {\n",
        "    \"left\": left,\n",
        "    \"right\": right,\n",
        "    \"aff\": aff,\n",
        "    \"unaff\": unaff\n",
        "}"
      ]
    },
    {
      "cell_type": "markdown",
      "metadata": {},
      "source": [
        "#### Parameter ranges for the grid search"
      ]
    },
    {
      "cell_type": "code",
      "execution_count": 15,
      "metadata": {},
      "outputs": [],
      "source": [
        "basedir = \"../data/output\"\n",
        "\n",
        "# Make directory if it does not exist\n",
        "outdir = pathlib.Path(basedir, \"pitch\")\n",
        "outdir.mkdir(parents=True, exist_ok=True)\n",
        "\n",
        "\n",
        "# GMAC Parameter ranges\n",
        "pitch_param_ranges = {\n",
        "    \"np\": list(map(int, [1, Fs // 2, Fs, 2*Fs, 4*Fs, 8*Fs])),\n",
        "}\n",
        "\n",
        "# Save params file.\n",
        "with open(pathlib.Path(outdir, \"pitch_params.json\"), \"w\") as f:\n",
        "    json.dump(pitch_param_ranges, f, indent=4)\n",
        "\n",
        "# Number of all possible combinations\n",
        "Ncombs = len(pitch_param_ranges[\"np\"])"
      ]
    },
    {
      "cell_type": "code",
      "execution_count": 10,
      "metadata": {},
      "outputs": [
        {
          "name": "stdout",
          "output_type": "stream",
          "text": [
            "Estimating pitch for subject 2 100"
          ]
        },
        {
          "name": "stdout",
          "output_type": "stream",
          "text": [
            "Estimating pitch for subject 5 4000"
          ]
        }
      ],
      "source": [
        "for limbkey in [\"left\", \"right\", \"aff\", \"unaff\"]:\n",
        "    # Which limb?\n",
        "    limbdf = datadf[limbkey]\n",
        "    subjects = limbdf.subject.unique()\n",
        "    \n",
        "    # Estimate pitch for each subject.\n",
        "    accl_cols = ['ax', 'ay', 'az']\n",
        "    dfcols = [\"subject\"] + [f\"np{int(_np)}\" for _np in pitch_param_ranges[\"np\"]] + [\"pitch\"]\n",
        "    pitch_df = pd.DataFrame(columns=dfcols)\n",
        "\n",
        "    for subj in subjects:\n",
        "        # Go through all parameter combinations.\n",
        "        _sinx = limbdf.subject == subj\n",
        "        subj_pitch = np.zeros((len(limbdf[_sinx]), Ncombs))\n",
        "        for _npinx, _np in enumerate(pitch_param_ranges[\"np\"]):\n",
        "            sys.stdout.write(f\"\\rEstimating pitch for subject {subj} {int(_np)}\")\n",
        "            sys.stdout.flush()\n",
        "            # All segments\n",
        "            segs = limbdf[_sinx].segment.unique()\n",
        "            _pitch = [gmac.estimate_pitch(\n",
        "                        accl=limbdf.loc[_sinx & (limbdf.segment == _seg), accl_cols].values,\n",
        "                        farm_inx=0,\n",
        "                        nwin=int(_np))\n",
        "                    for _seg in segs]\n",
        "            # Add column to subject pitch data\n",
        "            subj_pitch[:, _npinx] = np.hstack(_pitch)\n",
        "        # Add the groundtruth from IMU and subj name\n",
        "        subj_pitch = np.hstack((subj * np.ones((subj_pitch.shape[0], 1)),\n",
        "                                subj_pitch,\n",
        "                                limbdf[_sinx].pitch.values.reshape(-1, 1)))\n",
        "        # Add to dataframe\n",
        "        pitch_df = pd.concat((pitch_df, pd.DataFrame(subj_pitch, columns=dfcols)),\n",
        "                            ignore_index=True)    \n",
        "\n",
        "    # Save data\n",
        "    pitch_df.to_csv(pathlib.Path(outdir, f\"raw_pitch_{limbkey}.csv\"), index=False)"
      ]
    },
    {
      "cell_type": "markdown",
      "metadata": {},
      "source": [
        "## Choosing the best filter parameter for pitch estimation"
      ]
    },
    {
      "cell_type": "code",
      "execution_count": 11,
      "metadata": {},
      "outputs": [],
      "source": [
        "# Read data\n",
        "pitch_df = {\n",
        "    lmb: pd.read_csv(pathlib.Path(outdir, f\"raw_pitch_{lmb}.csv\"))\n",
        "    for lmb in ['left', 'right', 'aff', 'unaff']\n",
        "}"
      ]
    },
    {
      "cell_type": "code",
      "execution_count": 12,
      "metadata": {},
      "outputs": [],
      "source": [
        "# # Compute performance of pitch estimation\n",
        "_limbdf = pd.DataFrame(columns=[\"subject\", \"np\", \"err\", \"corr\", \"limb\"])\n",
        "for _lmb in [\"left\", \"right\", \"aff\", \"unaff\"]:\n",
        "    _df = pitch_df[_lmb]\n",
        "    for i, _subj in enumerate(_df.subject.unique()):\n",
        "        _sinx = _df.subject == _subj\n",
        "        _gt = _df.loc[_df.subject == _subj, \"pitch\"].values\n",
        "        for j, _np in enumerate(pitch_param_ranges[\"np\"]):\n",
        "            # Compute the 95th percentile absolute error\n",
        "            _err = np.percentile(np.abs(_df.loc[_sinx, f\"np{_np}\"].values - _gt), 50)\n",
        "            # Correlation coefficient\n",
        "            _corr = scipy.stats.pearsonr(_df.loc[_sinx, f\"np{_np}\"].values, _gt)[0]\n",
        "            # Temporary df\n",
        "            _tempdf = pd.DataFrame([[_subj, _np, _err, _corr, _lmb]], columns=_limbdf.columns)\n",
        "            _limbdf = pd.concat((_limbdf, _tempdf), ignore_index=True)\n",
        "\n",
        "# Save data\n",
        "_limbdf.to_csv(pathlib.Path(outdir, \"perf_pitch_est.csv\"), index=False)"
      ]
    }
  ],
  "metadata": {
    "colab": {
      "provenance": []
    },
    "kernelspec": {
      "display_name": "ulfunc",
      "language": "python",
      "name": "python3"
    },
    "language_info": {
      "codemirror_mode": {
        "name": "ipython",
        "version": 3
      },
      "file_extension": ".py",
      "mimetype": "text/x-python",
      "name": "python",
      "nbconvert_exporter": "python",
      "pygments_lexer": "ipython3",
      "version": "3.9.16"
    },
    "vscode": {
      "interpreter": {
        "hash": "afcba11dd2daf669f4680c8822ef2b15aa2b775fe4e3866448929bf9bb9938b0"
      }
    }
  },
  "nbformat": 4,
  "nbformat_minor": 0
}
