{
  "cells": [
    {
      "attachments": {},
      "cell_type": "markdown",
      "metadata": {},
      "source": [
        "# Organising Daily Life Data using the GMAC algorithm\n",
        "\n",
        "This notebook analyses the daily life data collected from 5 stroke suvivors and\n",
        "healthy controls, wearing the IMU sensors for 7 days and 3 days, respectively.\n",
        "\n",
        "The parameters for the GMAC algorithm are taken from the optimal values identified \n",
        "from the optimization procedure."
      ]
    },
    {
      "attachments": {},
      "cell_type": "markdown",
      "metadata": {},
      "source": [
        "### Getting the data\n",
        "\n",
        "If you do not already have the data to run this this notebook, you need to\n",
        "download it from here.\n",
        "\n"
      ]
    },
    {
      "attachments": {},
      "cell_type": "markdown",
      "metadata": {},
      "source": [
        "### Standards modules"
      ]
    },
    {
      "cell_type": "code",
      "execution_count": null,
      "metadata": {},
      "outputs": [],
      "source": [
        "%reload_ext autoreload\n",
        "%autoreload 2"
      ]
    },
    {
      "cell_type": "code",
      "execution_count": 1,
      "metadata": {},
      "outputs": [],
      "source": [
        "import sys\n",
        "import os\n",
        "import scipy\n",
        "import pathlib\n",
        "import itertools\n",
        "import glob\n",
        "import os\n",
        "import json\n",
        "import numpy as np\n",
        "import pandas as pd\n",
        "import matplotlib.pyplot as plt\n",
        "from scipy.stats import pearsonr\n",
        "from scipy import signal\n",
        "from scipy.interpolate import interp1d\n",
        "from datetime import datetime as dt"
      ]
    },
    {
      "cell_type": "code",
      "execution_count": 2,
      "metadata": {},
      "outputs": [],
      "source": [
        "import seaborn as sns"
      ]
    },
    {
      "attachments": {},
      "cell_type": "markdown",
      "metadata": {
        "id": "CmFNtZKR71KW"
      },
      "source": [
        "### Custom Modules"
      ]
    },
    {
      "cell_type": "code",
      "execution_count": 3,
      "metadata": {
        "colab": {
          "base_uri": "https://localhost:8080/"
        },
        "id": "MjSXcfJ-8Pyq",
        "outputId": "ee0f6d9a-a224-4a12-f481-db1f6e0d50af"
      },
      "outputs": [],
      "source": [
        "sys.path.append(\"../scripts\")\n",
        "\n",
        "from misc2 import organize_rawdata_datewise\n",
        "from misc2 import read_raw_data\n",
        "from misc2 import read_raw_date_data\n",
        "from misc2 import interp1d_rawdata"
      ]
    },
    {
      "cell_type": "markdown",
      "metadata": {},
      "source": [
        "## Custom functions"
      ]
    },
    {
      "cell_type": "code",
      "execution_count": 4,
      "metadata": {},
      "outputs": [],
      "source": [
        "def organize_processed_data(src_fname, arm, subj, Fs, data_cols, accl_scale, gyro_scale):\n",
        "    \"\"\"\n",
        "    Organize raw data into processed data.\n",
        "    \"\"\"\n",
        "    # When to dump data to the disk.\n",
        "    n_dump = 3600\n",
        "    \n",
        "    # Processed file name\n",
        "    prcd_fname = '_pcrd_'.join(src_fname.split('_raw_'))\n",
        "    \n",
        "    # Read data source data.\n",
        "    _rawdata = pd.read_csv(src_fname, sep=\",\", index_col=None, parse_dates=True)\n",
        "    _rawdata['datetime'] = pd.to_datetime(_rawdata['datetime'])\n",
        "    \n",
        "    # Get the seconds that are recoeded.\n",
        "    _secs = np.sort(np.unique(_rawdata['datetime'].unique()))\n",
        "\n",
        "    # Go through each second and find the number of data points\n",
        "    _data = None\n",
        "    n_count = 0\n",
        "\n",
        "    for _s in _secs:\n",
        "        # Get time index.\n",
        "        _inx = _rawdata['datetime'] == _s\n",
        "        _ninx = np.sum(_inx)\n",
        "        if _ninx == Fs:\n",
        "            # All good.\n",
        "            _tempdf = _rawdata.loc[_inx, :].reset_index(drop=True)\n",
        "            _tempdf['datetime'] = _s + pd.Timedelta(seconds=1/Fs) * np.arange(0, Fs)\n",
        "        elif np.abs(_ninx - Fs) < 10:\n",
        "            # Minon mismatch\n",
        "            # Interpolate, assuming uniform sampling\n",
        "            _ynew = interp1d_rawdata(\n",
        "                yvals=_rawdata.loc[_inx, data_cols].values,\n",
        "                xold=np.arange(0, Fs, Fs / _ninx),\n",
        "                xnew=np.arange(Fs),\n",
        "            )\n",
        "            _tempdf = pd.DataFrame(data=_ynew, columns=data_cols)\n",
        "            _tempdf['datetime'] = _s + pd.Timedelta(seconds=1/Fs) * np.arange(0, Fs)\n",
        "            \n",
        "        # Update dataframe\n",
        "        if _data is None:\n",
        "            # Init if it does not exist\n",
        "            _data = pd.DataFrame(columns=_tempdf.columns)\n",
        "            _data.to_csv(prcd_fname, sep=\",\", mode='w', index=False, header=True)\n",
        "        else:\n",
        "            _data = pd.concat([_data, _tempdf], axis=0, ignore_index=True)\n",
        "        \n",
        "        # Check if data is to be dumped to the disk.\n",
        "        if n_count == n_dump:\n",
        "            # Dump data\n",
        "            # Scale accelerometer and gyroscope values\n",
        "            _data.loc[:, ['ax', 'ay', 'az']] = _data.loc[:, ['ax', 'ay', 'az']].values * accl_scale\n",
        "            _data.loc[:, ['gx', 'gy', 'gz']] = _data.loc[:, ['gx', 'gy', 'gz']].values * gyro_scale\n",
        "            _data.to_csv(prcd_fname, sep=\",\", mode='a', index=False, header=False)\n",
        "            n_count = 0\n",
        "            _data = pd.DataFrame(columns=_data.columns)\n",
        "        else:\n",
        "            n_count += 1\n",
        "        \n",
        "        # Update display\n",
        "        if n_count % 73 == 0:\n",
        "            sys.stdout.write(f\"\\rProcessing {arm:>5} {subj:>3} {_s} {_ninx:3d} {n_count:6d}\")\n",
        "            sys.stdout.flush()\n",
        "    \n",
        "    # Dump the remaining data\n",
        "    # Scale accelerometer and gyroscope values\n",
        "    _data.loc[:, ['ax', 'ay', 'az']] = _data.loc[:, ['ax', 'ay', 'az']].values * accl_scale\n",
        "    _data.loc[:, ['gx', 'gy', 'gz']] = _data.loc[:, ['gx', 'gy', 'gz']].values * gyro_scale\n",
        "    _data.to_csv(prcd_fname, sep=\",\", mode='a', index=False, header=False)"
      ]
    },
    {
      "cell_type": "code",
      "execution_count": 5,
      "metadata": {},
      "outputs": [],
      "source": [
        "def get_subj_arm_fnames(details, data_dir):\n",
        "    \"\"\"\n",
        "    Get list of subjects, arms, and rawfilenames.\n",
        "    \"\"\"\n",
        "    for subj in details[\"names\"]:\n",
        "        for arm in (\"left\", \"right\"):\n",
        "            # List of raw files.\n",
        "            _path = pathlib.Path(data_dir / \"processed\" / subj / f\"*{arm}*raw*.csv\")\n",
        "            _rawfiles = glob.glob(_path.as_posix())\n",
        "            # Go through the raw files\n",
        "            for fname in _rawfiles:\n",
        "                yield (subj, arm, fname)"
      ]
    },
    {
      "cell_type": "code",
      "execution_count": 6,
      "metadata": {},
      "outputs": [],
      "source": [
        "def get_list_of_files(base_data_dir, subj, arm, details):\n",
        "    # Check if the processed folder exits.\n",
        "    _prcddir = base_data_dir / \"processed\" / subj\n",
        "    pathlib.Path(_prcddir).mkdir(exist_ok=True)\n",
        "\n",
        "    # Remove all CSV files.\n",
        "    for f in glob.glob(pathlib.Path(_prcddir / f\"*{arm}*raw*.csv\").as_posix()):\n",
        "        os.remove(f)\n",
        "    \n",
        "    return _prcddir, [_f for _f in details['files'][subj] if arm in _f]\n",
        "\n",
        "\n",
        "def all_files_iterator(files):\n",
        "    for i, _f in enumerate(_files):\n",
        "        yield i, _f,  _f.split(os.sep)[-1]\n",
        "        \n",
        "\n",
        "def read_data_dates_from_file(fname, rd_cols, dlim=2018):\n",
        "    # Read data\n",
        "    _data = read_raw_data(data_path=_fname, colnames=rd_cols)\n",
        "    # Find the dates in the data.\n",
        "    _dates = np.unique([_d.date() for _d in _data['datetime'] if _d.year >= dlim])\n",
        "    return _data, _dates\n",
        "\n",
        "def write_dates_data_to_disk(data, dates, prcddir, arm, dispstr):\n",
        "    for _d in dates:\n",
        "        # Find index from the current data with the date.\n",
        "        _dinx = np.array([_dc.date() == _d for _dc in data['datetime']])\n",
        "        \n",
        "        # If file exists, then open, append and save.\n",
        "        _prcd_fname = prcddir / f\"{arm}_raw_{str(_d)}.csv\"\n",
        "        if pathlib.Path(_prcd_fname).is_file():\n",
        "            sys.stdout.write(dispstr + f\" {_d} Old\")\n",
        "            data.loc[_dinx, :].to_csv(_prcd_fname, sep=\",\", mode='a',\n",
        "                                      header=False, index=False)\n",
        "        else:\n",
        "            sys.stdout.write(dispstr + f\" {_d} New\")\n",
        "            data.loc[_dinx, :].to_csv(_prcd_fname, sep=\",\", index=False)\n",
        "        sys.stdout.flush()"
      ]
    },
    {
      "attachments": {},
      "cell_type": "markdown",
      "metadata": {},
      "source": [
        "## Define notebook level constants"
      ]
    },
    {
      "cell_type": "code",
      "execution_count": 7,
      "metadata": {},
      "outputs": [],
      "source": [
        "# Sampling rate for the data is 50ms\n",
        "dT = 0.02\n",
        "Fs = int(1 / dT)\n",
        "\n",
        "# Raw data columns\n",
        "rd_cols = rd_cols = [\"ax\", \"ay\", \"az\", \"gx\", \"gy\", \"gz\", \"datetime\", \"yaw\", \"pitch\"]\n",
        "data_cols = [_el for _el in rd_cols if _el != \"datetime\"]\n",
        "\n",
        "# Acclerometer and gyroscope scaling factors.\n",
        "accl_scale = 4 / 32768.\n",
        "gyro_scale = 0.0174533 / 65.536"
      ]
    },
    {
      "attachments": {},
      "cell_type": "markdown",
      "metadata": {},
      "source": [
        "## Read the Controls and Patients Data"
      ]
    },
    {
      "cell_type": "code",
      "execution_count": 8,
      "metadata": {},
      "outputs": [],
      "source": [
        "# Read the stroke and healthy data folder structure and file names\n",
        "base_data_dir = pathlib.Path(\"..\", \"..\", \"..\", \"..\", \"uploads\", \"uploads\", \"IMU home study\")\n",
        "\n",
        "_alldirs = glob.glob(pathlib.Path(base_data_dir / \"raw\", \"*\").as_posix())\n",
        "controls_details = {\n",
        "    \"names\": [_dir.split(os.sep)[-1] for _dir in _alldirs\n",
        "              if \"C\" in _dir.split(os.sep)[-1]]\n",
        "}\n",
        "patients_details = {\n",
        "    \"names\": [_dir.split(os.sep)[-1] for _dir in _alldirs\n",
        "              if \"P\" in _dir.split(os.sep)[-1]]\n",
        "}\n",
        "\n",
        "# Get all patients and controls files names.\n",
        "controls_details[\"files\"] = {\n",
        "    _name: glob.glob(pathlib.Path(base_data_dir / \"raw\", _name, \"*\").as_posix())\n",
        "    for _name in controls_details[\"names\"]\n",
        "}\n",
        "patients_details[\"files\"] = {\n",
        "    _name: glob.glob(pathlib.Path(base_data_dir / \"raw\", _name, \"*\").as_posix())\n",
        "    for _name in patients_details[\"names\"]\n",
        "}"
      ]
    },
    {
      "cell_type": "markdown",
      "metadata": {},
      "source": [
        "## Organize data into datewise files"
      ]
    },
    {
      "cell_type": "code",
      "execution_count": 11,
      "metadata": {},
      "outputs": [],
      "source": [
        "# Create a processed file to avoid reprocessing the data.\n",
        "datewise_rawdata_file = pathlib.Path(base_data_dir / \"processed\" / \"datewise_rawdata.json\")\n",
        "if datewise_rawdata_file.exists():\n",
        "    with open(datewise_rawdata_file, 'r') as f:\n",
        "        try:\n",
        "            datewise_rawdata = json.load(f)\n",
        "        except json.JSONDecodeError:\n",
        "            datewise_rawdata = {}\n",
        "else:\n",
        "    with open(datewise_rawdata_file, 'w') as f:\n",
        "        datewise_rawdata = {}\n",
        "        json.dump(datewise_rawdata, f, indent=4)"
      ]
    },
    {
      "cell_type": "code",
      "execution_count": 12,
      "metadata": {},
      "outputs": [
        {
          "name": "stdout",
          "output_type": "stream",
          "text": [
            "188 / 206   C1          left_comp_15.csv                 2019-09-12 Old"
          ]
        },
        {
          "name": "stderr",
          "output_type": "stream",
          "text": [
            "/Users/siva82kb/Library/CloudStorage/OneDrive-ChristianMedicalCollege/projects/ArmUse/gmac/notebooks/../scripts/misc2.py:21: UserWarning: Could not infer format, so each element will be parsed individually, falling back to `dateutil`. To ensure parsing is consistent and as-expected, please specify a format.\n",
            "  _data['datetime'] = pd.to_datetime(_data['datetime'])\n"
          ]
        },
        {
          "name": "stdout",
          "output_type": "stream",
          "text": [
            " 61 /  71   C2         left_comp_111.csv                 2019-10-12 Old"
          ]
        },
        {
          "name": "stderr",
          "output_type": "stream",
          "text": [
            "/Users/siva82kb/Library/CloudStorage/OneDrive-ChristianMedicalCollege/projects/ArmUse/gmac/notebooks/../scripts/misc2.py:21: UserWarning: Could not infer format, so each element will be parsed individually, falling back to `dateutil`. To ensure parsing is consistent and as-expected, please specify a format.\n",
            "  _data['datetime'] = pd.to_datetime(_data['datetime'])\n"
          ]
        },
        {
          "name": "stdout",
          "output_type": "stream",
          "text": [
            " 92 /  93   C2        right_comp_155.csv                 2019-10-12 Old"
          ]
        }
      ],
      "source": [
        "# Controls\n",
        "# Organize raw data into datewise CSV files.\n",
        "for subj in controls_details[\"names\"]:\n",
        "    # Check if subj is in datewise raw data.\n",
        "    if subj not in datewise_rawdata.keys():\n",
        "        datewise_rawdata[subj] = {} \n",
        "    \n",
        "    for arm in (\"left\", \"right\"):\n",
        "        # Check if the arm is in dateise raw data.\n",
        "        if arm not in datewise_rawdata[subj].keys():\n",
        "            datewise_rawdata[subj][arm] = []\n",
        "        \n",
        "        # Read the list of files.\n",
        "        _prcddir, _files = get_list_of_files(base_data_dir, subj, arm, controls_details)       \n",
        "        _nf = len(_files)\n",
        "        \n",
        "        # Go through each file and generate datewise data.\n",
        "        for i, _fname, _fname_short in all_files_iterator(_files):\n",
        "            # Update display\n",
        "            _str = f\"\\r{i:3d} / {_nf:3d} {subj:>4} {_fname_short:>25} {' ':>15}\"\n",
        "            sys.stdout.write(_str)\n",
        "            \n",
        "            # Check if the file has been already processed.\n",
        "            if _fname in datewise_rawdata[subj][arm]:\n",
        "                continue\n",
        "            \n",
        "            # File not processed. Process.\n",
        "            # Read data and dates\n",
        "            _data, _dates = read_data_dates_from_file(_fname, rd_cols)\n",
        "            \n",
        "            # Write datewise data to disk.\n",
        "            write_dates_data_to_disk(_data, _dates, _prcddir, arm, _str)\n",
        "            \n",
        "            # Update processed files and write to disk\n",
        "            datewise_rawdata[subj][arm].append(_fname)\n",
        "            with open(datewise_rawdata_file, \"w\") as f:\n",
        "                json.dump(datewise_rawdata, f, indent=4)"
      ]
    },
    {
      "cell_type": "code",
      "execution_count": 18,
      "metadata": {},
      "outputs": [
        {
          "name": "stdout",
          "output_type": "stream",
          "text": [
            "527 / 569   P4        right_comp_183.csv                 2019-12-29 Old"
          ]
        },
        {
          "name": "stderr",
          "output_type": "stream",
          "text": [
            "/Users/siva82kb/Library/CloudStorage/OneDrive-ChristianMedicalCollege/projects/ArmUse/gmac/notebooks/../scripts/misc2.py:19: DtypeWarning: Columns (3) have mixed types. Specify dtype option on import or set low_memory=False.\n",
            "  _data = pd.read_csv(data_path, sep=',', header=None, index_col=False)\n"
          ]
        },
        {
          "name": "stdout",
          "output_type": "stream",
          "text": [
            "221 / 248   P3          left_comp_16.csv                 2019-10-08 Old"
          ]
        },
        {
          "name": "stderr",
          "output_type": "stream",
          "text": [
            "/Users/siva82kb/Library/CloudStorage/OneDrive-ChristianMedicalCollege/projects/ArmUse/gmac/notebooks/../scripts/misc2.py:21: UserWarning: Could not infer format, so each element will be parsed individually, falling back to `dateutil`. To ensure parsing is consistent and as-expected, please specify a format.\n",
            "  _data['datetime'] = pd.to_datetime(_data['datetime'])\n"
          ]
        },
        {
          "name": "stdout",
          "output_type": "stream",
          "text": [
            "194 / 351   P3         right_comp_16.csv                 2019-10-07 Old"
          ]
        },
        {
          "name": "stderr",
          "output_type": "stream",
          "text": [
            "/Users/siva82kb/Library/CloudStorage/OneDrive-ChristianMedicalCollege/projects/ArmUse/gmac/notebooks/../scripts/misc2.py:21: UserWarning: Could not infer format, so each element will be parsed individually, falling back to `dateutil`. To ensure parsing is consistent and as-expected, please specify a format.\n",
            "  _data['datetime'] = pd.to_datetime(_data['datetime'])\n"
          ]
        },
        {
          "name": "stdout",
          "output_type": "stream",
          "text": [
            " 50 / 288   P2        left_comp_1301.csv                 2019-09-28 Old"
          ]
        },
        {
          "name": "stderr",
          "output_type": "stream",
          "text": [
            "/Users/siva82kb/Library/CloudStorage/OneDrive-ChristianMedicalCollege/projects/ArmUse/gmac/notebooks/../scripts/misc2.py:21: UserWarning: Could not infer format, so each element will be parsed individually, falling back to `dateutil`. To ensure parsing is consistent and as-expected, please specify a format.\n",
            "  _data['datetime'] = pd.to_datetime(_data['datetime'])\n"
          ]
        },
        {
          "name": "stdout",
          "output_type": "stream",
          "text": [
            " 69 / 288   P2        left_comp_1302.csv                 2019-09-28 Old"
          ]
        },
        {
          "name": "stderr",
          "output_type": "stream",
          "text": [
            "/Users/siva82kb/Library/CloudStorage/OneDrive-ChristianMedicalCollege/projects/ArmUse/gmac/notebooks/../scripts/misc2.py:21: UserWarning: Could not infer format, so each element will be parsed individually, falling back to `dateutil`. To ensure parsing is consistent and as-expected, please specify a format.\n",
            "  _data['datetime'] = pd.to_datetime(_data['datetime'])\n"
          ]
        },
        {
          "name": "stdout",
          "output_type": "stream",
          "text": [
            "287 / 288   P1        right_comp_633.csv                 2019-08-23 Old"
          ]
        }
      ],
      "source": [
        "# Patients\n",
        "# Organize raw data into datewise CSV files.\n",
        "for subj in patients_details[\"names\"]:\n",
        "    # Check if subj is in datewise raw data.\n",
        "    if subj not in datewise_rawdata.keys():\n",
        "        datewise_rawdata[subj] = {} \n",
        "    \n",
        "    for arm in (\"left\", \"right\"):\n",
        "        # Check if the arm is in dateise raw data.\n",
        "        if arm not in datewise_rawdata[subj].keys():\n",
        "            datewise_rawdata[subj][arm] = []\n",
        "        \n",
        "        # Read the list of files.\n",
        "        _prcddir, _files = get_list_of_files(base_data_dir, subj, arm, patients_details)       \n",
        "        _nf = len(_files)\n",
        "        \n",
        "        # Go through each file and generate datewise data.\n",
        "        for i, _fname, _fname_short in all_files_iterator(_files):\n",
        "            # Update display\n",
        "            _str = f\"\\r{i:3d} / {_nf:3d} {subj:>4} {_fname_short:>25} {' ':>15}\"\n",
        "            sys.stdout.write(_str)\n",
        "            \n",
        "            # Check if the file has been already processed.\n",
        "            if _fname in datewise_rawdata[subj][arm]:\n",
        "                continue\n",
        "            \n",
        "            # File not processed. Process.\n",
        "            # Read data and dates\n",
        "            _data, _dates = read_data_dates_from_file(_fname, rd_cols)\n",
        "            \n",
        "            # Write datewise data to disk.\n",
        "            write_dates_data_to_disk(_data, _dates, _prcddir, arm, _str)\n",
        "            \n",
        "            # Update processed files and write to disk\n",
        "            datewise_rawdata[subj][arm].append(_fname)\n",
        "            with open(datewise_rawdata_file, \"w\") as f:\n",
        "                json.dump(datewise_rawdata, f, indent=4)"
      ]
    },
    {
      "cell_type": "markdown",
      "metadata": {},
      "source": [
        "## Clean up data for analysis"
      ]
    },
    {
      "cell_type": "code",
      "execution_count": 9,
      "metadata": {},
      "outputs": [],
      "source": [
        "def organize_data_for_second(rawdata, sec, Fs, rd_cols, data_cols):\n",
        "    \"\"\"\n",
        "    Organize the data for the given second.\n",
        "    \"\"\"\n",
        "    # Get time index.\n",
        "    _inx = rawdata['datetime'] == sec\n",
        "    _ninx = np.sum(_inx)\n",
        "    if _ninx == Fs:\n",
        "        # All good.\n",
        "        _tempdf = rawdata.loc[_inx, :].reset_index(drop=True)\n",
        "        _tempdf['datetime'] = sec + pd.Timedelta(seconds=1/Fs) * np.arange(0, Fs)\n",
        "    elif np.abs(_ninx - Fs) < 10:\n",
        "        # Minor mismatch\n",
        "        # Interpolate, assuming uniform sampling\n",
        "        _ynew = interp1d_rawdata(\n",
        "            yvals=rawdata.loc[_inx, data_cols].values,\n",
        "            xold=np.arange(0, Fs, Fs / _ninx),\n",
        "            xnew=np.arange(Fs),\n",
        "        )\n",
        "        _tempdf = pd.DataFrame(columns=rd_cols)\n",
        "        _tempdf[data_cols] = _ynew\n",
        "        _tempdf['datetime'] = sec + pd.Timedelta(seconds=1/Fs) * np.arange(0, Fs)\n",
        "    else:\n",
        "        # Empty data for this second.\n",
        "        _tempdf = pd.DataFrame(columns=rawdata.columns)\n",
        "        _tempdf['datetime'] = sec + pd.Timedelta(seconds=1/Fs) * np.arange(0, Fs)\n",
        "    return _tempdf"
      ]
    },
    {
      "cell_type": "code",
      "execution_count": 10,
      "metadata": {},
      "outputs": [],
      "source": [
        "# Create a processed file to avoid reprocessing the data.\n",
        "proc_completed_file = pathlib.Path(base_data_dir / \"processed\" / \"processed_data.json\")\n",
        "if proc_completed_file.exists():\n",
        "    with open(proc_completed_file, 'r') as f:\n",
        "        try:\n",
        "            proc_completed = json.load(f)\n",
        "        except json.JSONDecodeError:\n",
        "            proc_completed = {}\n",
        "else:\n",
        "    with open(proc_completed_file, 'w') as f:\n",
        "        proc_completed = json.dump({}, f)\n",
        "        proc_completed = {}"
      ]
    },
    {
      "cell_type": "code",
      "execution_count": 11,
      "metadata": {},
      "outputs": [
        {
          "name": "stdout",
          "output_type": "stream",
          "text": [
            "['C1', 'C3', 'C4', 'C5', 'C2']\n",
            "Processing   C2  right_raw_2019-10-11.csv 23:58:59    511 (   25500)"
          ]
        }
      ],
      "source": [
        "# When to dump data to the disk.\n",
        "n_dump = 3600\n",
        "dt_fmt = \"%Y-%m-%d %H:%M:%S\"\n",
        "get_dt_str = lambda x: dt.strptime(str(x),'%Y-%m-%dT%H:%M:%S.%f000').strftime(dt_fmt)\n",
        "\n",
        "print(controls_details['names'])\n",
        "alldetails = get_subj_arm_fnames(controls_details, base_data_dir)\n",
        "for subj, arm, src_f in alldetails:\n",
        "    # Check if subject exists in procrssed dict\n",
        "    if subj not in proc_completed:\n",
        "        proc_completed[subj] = {}\n",
        "    # Check if the file exists in the processed dict\n",
        "    _srcfname = src_f.split(os.sep)[-1]\n",
        "    if _srcfname not in proc_completed[subj]:\n",
        "        proc_completed[subj][_srcfname] = []\n",
        "\n",
        "    # Processed file name\n",
        "    prc_f = '_pcrd_'.join(src_f.split('_raw_'))\n",
        "    \n",
        "    # Read data source data.\n",
        "    _rawdata = pd.read_csv(src_f, sep=\",\", index_col=None, parse_dates=True)\n",
        "    _rawdata['datetime'] = pd.to_datetime(_rawdata['datetime'])\n",
        "    \n",
        "    # Get all the seconds in the data.\n",
        "    _secs = np.sort(np.unique(_rawdata['datetime'].unique()))\n",
        "\n",
        "    # Update display\n",
        "    sys.stdout.write(f\"\\rProcessing {subj:>4} {_srcfname:>25} \")\n",
        "    sys.stdout.flush()\n",
        "    \n",
        "    # Go through each second and find the number of data points\n",
        "    _data = None\n",
        "    n_count = 0\n",
        "    _sec_prcd = []\n",
        "    \n",
        "    for _s in _secs:\n",
        "        # Check if the second exists already in the processed data.\n",
        "        if get_dt_str(_s) not in proc_completed[subj][_srcfname]:\n",
        "            # Get organized data for this second.\n",
        "            tempdf = organize_data_for_second(_rawdata, _s, Fs, rd_cols,\n",
        "                                              data_cols)\n",
        "            \n",
        "            # Update dataframe\n",
        "            if _data is None:\n",
        "                # Init if it does not exist\n",
        "                _data = pd.DataFrame(columns=tempdf.columns)\n",
        "                _data.to_csv(prc_f, sep=\",\", mode='w', index=False, header=True)\n",
        "            else:\n",
        "                _data = pd.concat([_data, tempdf], axis=0, ignore_index=True)\n",
        "            # Update processed seconds.\n",
        "            _sec_prcd.append(get_dt_str(_s))\n",
        "            \n",
        "            # Check if data is to be dumped to the disk.\n",
        "            if n_count >= n_dump:\n",
        "                # Dump data\n",
        "                _data.to_csv(prc_f, sep=\",\", mode='a', index=False,\n",
        "                             header=False)\n",
        "                # Update processed seconds.\n",
        "                proc_completed[subj][_srcfname] += _sec_prcd\n",
        "                with open(proc_completed_file, \"w\") as fh:\n",
        "                    json.dump(proc_completed, fh, indent=4)\n",
        "                # Reset for the next set of data.\n",
        "                n_count = 0\n",
        "                _data = pd.DataFrame(columns=_data.columns)\n",
        "                _sec_prcd = []\n",
        "        \n",
        "        # Update display\n",
        "        n_count += 1\n",
        "        if n_count % 73 == 0:\n",
        "            if _data is not None:\n",
        "                sys.stdout.write(f\"\\rProcessing {subj:>4} {_srcfname:>25} {get_dt_str(_s)[11:]} {n_count:6d} ({len(_data):8d})\")\n",
        "            else:\n",
        "                sys.stdout.write(f\"\\rProcessing {subj:>4} {_srcfname:>25} {get_dt_str(_s)[11:]} {n_count:6d}\")\n",
        "            sys.stdout.flush()\n",
        "    \n",
        "    # Dump the remaining data.\n",
        "    if _data is not None:\n",
        "        _data.to_csv(prc_f, sep=\",\", mode='a', index=False, header=False)\n",
        "        # Update processed seconds.\n",
        "        proc_completed[subj][_srcfname] += _sec_prcd\n",
        "        with open(proc_completed_file, \"w\") as fh:\n",
        "            json.dump(proc_completed, fh, indent=4)"
      ]
    },
    {
      "cell_type": "code",
      "execution_count": null,
      "metadata": {},
      "outputs": [],
      "source": [
        "subj = \"C4\"\n",
        "arm = \"left\"\n",
        "\n",
        "# Find all processed files\n",
        "files = glob.glob((base_data_dir / \"processed\" / subj/ f\"{arm}*pcrd*.csv\").as_posix())\n",
        "\n",
        "fdata = pd.read_csv(files[1])"
      ]
    },
    {
      "cell_type": "code",
      "execution_count": null,
      "metadata": {},
      "outputs": [],
      "source": [
        "# fdata.loc[:, ['ax', 'ay', 'az']] = fdata.loc[:, ['ax', 'ay', 'az']] * accl_scale\n",
        "# fdata.loc[:, ['gx', 'gy', 'gz']] = fdata.loc[:, ['gx', 'gy', 'gz']] * gyro_scale"
      ]
    },
    {
      "cell_type": "code",
      "execution_count": null,
      "metadata": {},
      "outputs": [
        {
          "data": {
            "text/plain": [
              "32767.0"
            ]
          },
          "execution_count": 76,
          "metadata": {},
          "output_type": "execute_result"
        }
      ],
      "source": [
        "np.max(fdata['ax'])"
      ]
    },
    {
      "cell_type": "code",
      "execution_count": null,
      "metadata": {},
      "outputs": [
        {
          "data": {
            "text/plain": [
              "[<matplotlib.lines.Line2D at 0x380881490>]"
            ]
          },
          "execution_count": 71,
          "metadata": {},
          "output_type": "execute_result"
        },
        {
          "data": {
            "image/png": "[encoded data removed]",
            "text/plain": [
              "<Figure size 2000x400 with 1 Axes>"
            ]
          },
          "metadata": {},
          "output_type": "display_data"
        }
      ],
      "source": [
        "fig = plt.figure(figsize=(20, 4))\n",
        "plt.plot(fdata['ax'])\n",
        "plt.plot(fdata['ay'])\n",
        "plt.plot(fdata['az'])\n",
        "# plt.xlim(700000, 750000)"
      ]
    },
    {
      "cell_type": "code",
      "execution_count": null,
      "metadata": {},
      "outputs": [],
      "source": []
    },
    {
      "cell_type": "code",
      "execution_count": null,
      "metadata": {},
      "outputs": [],
      "source": []
    },
    {
      "cell_type": "code",
      "execution_count": null,
      "metadata": {},
      "outputs": [],
      "source": []
    },
    {
      "cell_type": "code",
      "execution_count": null,
      "metadata": {},
      "outputs": [],
      "source": []
    },
    {
      "cell_type": "code",
      "execution_count": null,
      "metadata": {},
      "outputs": [
        {
          "name": "stdout",
          "output_type": "stream",
          "text": [
            "Empty DataFrame\n",
            "Columns: [ax, ay, az, gx, gy, gz, datetime, yaw, pitch]\n",
            "Index: []\n",
            "[[0.85334644 0.19455493 0.81463203 0.28404982 0.25517315 0.70020342\n",
            "  0.44144167 0.73896129]\n",
            " [0.94710487 0.85137299 0.58247542 0.64780137 0.09556857 0.94945826\n",
            "  0.20616361 0.68989241]\n",
            " [0.94191178 0.72929815 0.87821348 0.17568968 0.04613349 0.48667252\n",
            "  0.34434518 0.78018612]\n",
            " [0.52987424 0.7810537  0.05987847 0.56969001 0.6372121  0.69771133\n",
            "  0.89475228 0.84094105]\n",
            " [0.13109762 0.21216318 0.30344177 0.91081281 0.43240088 0.48201715\n",
            "  0.57896192 0.04048819]\n",
            " [0.405174   0.3890619  0.1812183  0.63651569 0.00943616 0.7164723\n",
            "  0.63810477 0.61951904]\n",
            " [0.59677525 0.1263349  0.4212609  0.88699841 0.20026639 0.61929647\n",
            "  0.05519795 0.25486104]\n",
            " [0.16229912 0.8301559  0.02172305 0.97497359 0.95447687 0.65452515\n",
            "  0.40446652 0.31330032]\n",
            " [0.24771384 0.53703142 0.87972907 0.6265092  0.7927146  0.40849764\n",
            "  0.79193152 0.36640722]\n",
            " [0.69026297 0.90673223 0.33485379 0.0603174  0.9955541  0.42875569\n",
            "  0.4536394  0.25274533]]\n"
          ]
        },
        {
          "data": {
            "text/html": [
              "<div>\n",
              "<style scoped>\n",
              "    .dataframe tbody tr th:only-of-type {\n",
              "        vertical-align: middle;\n",
              "    }\n",
              "\n",
              "    .dataframe tbody tr th {\n",
              "        vertical-align: top;\n",
              "    }\n",
              "\n",
              "    .dataframe thead th {\n",
              "        text-align: right;\n",
              "    }\n",
              "</style>\n",
              "<table border=\"1\" class=\"dataframe\">\n",
              "  <thead>\n",
              "    <tr style=\"text-align: right;\">\n",
              "      <th></th>\n",
              "      <th>ax</th>\n",
              "      <th>ay</th>\n",
              "      <th>az</th>\n",
              "      <th>gx</th>\n",
              "      <th>gy</th>\n",
              "      <th>gz</th>\n",
              "      <th>datetime</th>\n",
              "      <th>yaw</th>\n",
              "      <th>pitch</th>\n",
              "    </tr>\n",
              "  </thead>\n",
              "  <tbody>\n",
              "    <tr>\n",
              "      <th>0</th>\n",
              "      <td>0.853346</td>\n",
              "      <td>0.194555</td>\n",
              "      <td>0.814632</td>\n",
              "      <td>0.284050</td>\n",
              "      <td>0.255173</td>\n",
              "      <td>0.700203</td>\n",
              "      <td>NaN</td>\n",
              "      <td>0.441442</td>\n",
              "      <td>0.738961</td>\n",
              "    </tr>\n",
              "    <tr>\n",
              "      <th>1</th>\n",
              "      <td>0.947105</td>\n",
              "      <td>0.851373</td>\n",
              "      <td>0.582475</td>\n",
              "      <td>0.647801</td>\n",
              "      <td>0.095569</td>\n",
              "      <td>0.949458</td>\n",
              "      <td>NaN</td>\n",
              "      <td>0.206164</td>\n",
              "      <td>0.689892</td>\n",
              "    </tr>\n",
              "    <tr>\n",
              "      <th>2</th>\n",
              "      <td>0.941912</td>\n",
              "      <td>0.729298</td>\n",
              "      <td>0.878213</td>\n",
              "      <td>0.175690</td>\n",
              "      <td>0.046133</td>\n",
              "      <td>0.486673</td>\n",
              "      <td>NaN</td>\n",
              "      <td>0.344345</td>\n",
              "      <td>0.780186</td>\n",
              "    </tr>\n",
              "    <tr>\n",
              "      <th>3</th>\n",
              "      <td>0.529874</td>\n",
              "      <td>0.781054</td>\n",
              "      <td>0.059878</td>\n",
              "      <td>0.569690</td>\n",
              "      <td>0.637212</td>\n",
              "      <td>0.697711</td>\n",
              "      <td>NaN</td>\n",
              "      <td>0.894752</td>\n",
              "      <td>0.840941</td>\n",
              "    </tr>\n",
              "    <tr>\n",
              "      <th>4</th>\n",
              "      <td>0.131098</td>\n",
              "      <td>0.212163</td>\n",
              "      <td>0.303442</td>\n",
              "      <td>0.910813</td>\n",
              "      <td>0.432401</td>\n",
              "      <td>0.482017</td>\n",
              "      <td>NaN</td>\n",
              "      <td>0.578962</td>\n",
              "      <td>0.040488</td>\n",
              "    </tr>\n",
              "    <tr>\n",
              "      <th>5</th>\n",
              "      <td>0.405174</td>\n",
              "      <td>0.389062</td>\n",
              "      <td>0.181218</td>\n",
              "      <td>0.636516</td>\n",
              "      <td>0.009436</td>\n",
              "      <td>0.716472</td>\n",
              "      <td>NaN</td>\n",
              "      <td>0.638105</td>\n",
              "      <td>0.619519</td>\n",
              "    </tr>\n",
              "    <tr>\n",
              "      <th>6</th>\n",
              "      <td>0.596775</td>\n",
              "      <td>0.126335</td>\n",
              "      <td>0.421261</td>\n",
              "      <td>0.886998</td>\n",
              "      <td>0.200266</td>\n",
              "      <td>0.619296</td>\n",
              "      <td>NaN</td>\n",
              "      <td>0.055198</td>\n",
              "      <td>0.254861</td>\n",
              "    </tr>\n",
              "    <tr>\n",
              "      <th>7</th>\n",
              "      <td>0.162299</td>\n",
              "      <td>0.830156</td>\n",
              "      <td>0.021723</td>\n",
              "      <td>0.974974</td>\n",
              "      <td>0.954477</td>\n",
              "      <td>0.654525</td>\n",
              "      <td>NaN</td>\n",
              "      <td>0.404467</td>\n",
              "      <td>0.313300</td>\n",
              "    </tr>\n",
              "    <tr>\n",
              "      <th>8</th>\n",
              "      <td>0.247714</td>\n",
              "      <td>0.537031</td>\n",
              "      <td>0.879729</td>\n",
              "      <td>0.626509</td>\n",
              "      <td>0.792715</td>\n",
              "      <td>0.408498</td>\n",
              "      <td>NaN</td>\n",
              "      <td>0.791932</td>\n",
              "      <td>0.366407</td>\n",
              "    </tr>\n",
              "    <tr>\n",
              "      <th>9</th>\n",
              "      <td>0.690263</td>\n",
              "      <td>0.906732</td>\n",
              "      <td>0.334854</td>\n",
              "      <td>0.060317</td>\n",
              "      <td>0.995554</td>\n",
              "      <td>0.428756</td>\n",
              "      <td>NaN</td>\n",
              "      <td>0.453639</td>\n",
              "      <td>0.252745</td>\n",
              "    </tr>\n",
              "  </tbody>\n",
              "</table>\n",
              "</div>"
            ],
            "text/plain": [
              "         ax        ay        az        gx        gy        gz datetime  \\\n",
              "0  0.853346  0.194555  0.814632  0.284050  0.255173  0.700203      NaN   \n",
              "1  0.947105  0.851373  0.582475  0.647801  0.095569  0.949458      NaN   \n",
              "2  0.941912  0.729298  0.878213  0.175690  0.046133  0.486673      NaN   \n",
              "3  0.529874  0.781054  0.059878  0.569690  0.637212  0.697711      NaN   \n",
              "4  0.131098  0.212163  0.303442  0.910813  0.432401  0.482017      NaN   \n",
              "5  0.405174  0.389062  0.181218  0.636516  0.009436  0.716472      NaN   \n",
              "6  0.596775  0.126335  0.421261  0.886998  0.200266  0.619296      NaN   \n",
              "7  0.162299  0.830156  0.021723  0.974974  0.954477  0.654525      NaN   \n",
              "8  0.247714  0.537031  0.879729  0.626509  0.792715  0.408498      NaN   \n",
              "9  0.690263  0.906732  0.334854  0.060317  0.995554  0.428756      NaN   \n",
              "\n",
              "        yaw     pitch  \n",
              "0  0.441442  0.738961  \n",
              "1  0.206164  0.689892  \n",
              "2  0.344345  0.780186  \n",
              "3  0.894752  0.840941  \n",
              "4  0.578962  0.040488  \n",
              "5  0.638105  0.619519  \n",
              "6  0.055198  0.254861  \n",
              "7  0.404467  0.313300  \n",
              "8  0.791932  0.366407  \n",
              "9  0.453639  0.252745  "
            ]
          },
          "execution_count": 43,
          "metadata": {},
          "output_type": "execute_result"
        }
      ],
      "source": [
        "_temp = pd.DataFrame(columns=rd_cols)\n",
        "_data = np.random.random((10, 8))\n",
        "print(_temp)\n",
        "print(_data)\n",
        "_temp[data_cols] = _data\n",
        "_temp"
      ]
    },
    {
      "cell_type": "code",
      "execution_count": null,
      "metadata": {},
      "outputs": [],
      "source": []
    },
    {
      "cell_type": "code",
      "execution_count": null,
      "metadata": {},
      "outputs": [],
      "source": [
        "# Process raw datewise data.\n",
        "# 1. Sort rows by datetime\n",
        "# 2. Convert acceleration to g units and gyroscope to degrees/second\n",
        "# 3. Interpolate to get 50Hz sampling rate.\n",
        "\n",
        "# Organize raw data into datewise CSV files.\n",
        "for subj in controls_details[\"names\"]:\n",
        "    # Check if the subject exists in processed dict.\n",
        "    if subj not in proc_completed:\n",
        "        proc_completed[subj] = {}\n",
        "    for arm in (\"left\", \"right\"):\n",
        "        # List of raw files.\n",
        "        _rawfiles = glob.glob(pathlib.Path(base_data_dir / \"processed\" / subj / f\"*{arm}*raw*.csv\").as_posix())\n",
        "        \n",
        "        # Go through the raw files\n",
        "        for src_fname in _rawfiles:\n",
        "            # Check of the filename exists in the processed dict.\n",
        "            if src_fname.split(os.sep)[-1] not in proc_completed[subj]:\n",
        "                proc_completed[subj] = []\n",
        "            # organize_processed_data(src_fname, arm, subj, Fs, data_cols,\n",
        "            #                         accl_scale, gyro_scale)\n",
        "            pass"
      ]
    },
    {
      "cell_type": "code",
      "execution_count": null,
      "metadata": {},
      "outputs": [
        {
          "data": {
            "text/plain": [
              "{'C1': [], 'C3': [], 'C4': {}, 'C5': [], 'C2': []}"
            ]
          },
          "execution_count": 31,
          "metadata": {},
          "output_type": "execute_result"
        }
      ],
      "source": [
        "proc_completed"
      ]
    },
    {
      "cell_type": "code",
      "execution_count": null,
      "metadata": {},
      "outputs": [],
      "source": [
        "# Process raw datewise data.\n",
        "# 1. Sort rows by datetime\n",
        "# 2. Convert acceleration to g units and gyroscope to degrees/second\n",
        "# 3. Interpolate to get 50Hz sampling rate.\n",
        "arm = \"right\"\n",
        "subj = \"C1\"\n",
        "_rawfiles = glob.glob(pathlib.Path(base_data_dir / \"processed\" / subj / f\"*{arm}*raw*.csv\").as_posix())"
      ]
    },
    {
      "cell_type": "code",
      "execution_count": null,
      "metadata": {},
      "outputs": [],
      "source": [
        "src_fname = _rawfiles[0]\n",
        "prcd_fname = '_pcrd_'.join(src_fname.split('_raw_'))\n",
        "\n",
        "# Read data source data.\n",
        "_rawdata = pd.read_csv(src_fname, sep=\",\", index_col=None, parse_dates=True)\n",
        "_rawdata['datetime'] = pd.to_datetime(_rawdata['datetime'])\n"
      ]
    },
    {
      "cell_type": "code",
      "execution_count": null,
      "metadata": {},
      "outputs": [
        {
          "name": "stdout",
          "output_type": "stream",
          "text": [
            "Processing 2019-09-14T23:43:19.000000000  50   2555"
          ]
        }
      ],
      "source": [
        "# When to dump data to the disk.\n",
        "n_dump = 3600\n",
        "\n",
        "# Get the seconds that are recoeded.\n",
        "_secs = np.sort(np.unique(_rawdata['datetime'].unique()))\n",
        "\n",
        "# Go through each second and find the number of data points\n",
        "_data = None\n",
        "n_count = 0\n",
        "\n",
        "for _s in _secs:\n",
        "    # Get time index.\n",
        "    _inx = _rawdata['datetime'] == _s\n",
        "    _ninx = np.sum(_inx)\n",
        "    if _ninx == Fs:\n",
        "        # All good.\n",
        "        _tempdf = _rawdata.loc[_inx, :].reset_index(drop=True)\n",
        "        _tempdf['datetime'] = _s + pd.Timedelta(seconds=dT) * np.arange(0, Fs)\n",
        "    elif np.abs(_ninx - Fs) < -10:\n",
        "        # Minon mismatch\n",
        "        # Interpolate, assuming uniform sampling\n",
        "        _ynew = interp1d_rawdata(\n",
        "            yvals=_rawdata.loc[_inx, data_cols].values,\n",
        "            xold=np.arange(_ninx),\n",
        "            xnew=np.arange(Fs),\n",
        "        )\n",
        "        _tempdf = pd.DataFrame(data=_ynew, columns=data_cols)\n",
        "        _tempdf['datetime'] = _s + pd.Timedelta(seconds=dT) * np.arange(0, Fs)\n",
        "        \n",
        "    # Update dataframe\n",
        "    if _data is None:\n",
        "        # Init if it does not exist\n",
        "        _data = pd.DataFrame(columns=_tempdf.columns)\n",
        "        _data.to_csv(prcd_fname, sep=\",\", mode='w', index=False, header=True)\n",
        "    else:\n",
        "        _data = pd.concat([_data, _tempdf], axis=0, ignore_index=True)\n",
        "    \n",
        "    # Check if data is to be dumped to the disk.\n",
        "    if n_count == n_dump:\n",
        "        # Dump data\n",
        "        _data.to_csv(prcd_fname, sep=\",\", mode='a', index=False, header=False)\n",
        "        n_count = 0\n",
        "        _data = pd.DataFrame(columns=_data.columns)\n",
        "    else:\n",
        "        n_count += 1\n",
        "    \n",
        "    # Update display\n",
        "    if n_count % 73 == 0:\n",
        "        sys.stdout.write(f\"\\rProcessing {_s} {_ninx:3d} {n_count:6d}\")\n",
        "        sys.stdout.flush()"
      ]
    },
    {
      "cell_type": "code",
      "execution_count": null,
      "metadata": {},
      "outputs": [],
      "source": []
    },
    {
      "cell_type": "code",
      "execution_count": null,
      "metadata": {},
      "outputs": [],
      "source": []
    }
  ],
  "metadata": {
    "colab": {
      "provenance": []
    },
    "kernelspec": {
      "display_name": "ulfunc",
      "language": "python",
      "name": "python3"
    },
    "language_info": {
      "codemirror_mode": {
        "name": "ipython",
        "version": 3
      },
      "file_extension": ".py",
      "mimetype": "text/x-python",
      "name": "python",
      "nbconvert_exporter": "python",
      "pygments_lexer": "ipython3",
      "version": "3.9.16"
    },
    "vscode": {
      "interpreter": {
        "hash": "afcba11dd2daf669f4680c8822ef2b15aa2b775fe4e3866448929bf9bb9938b0"
      }
    }
  },
  "nbformat": 4,
  "nbformat_minor": 0
}
