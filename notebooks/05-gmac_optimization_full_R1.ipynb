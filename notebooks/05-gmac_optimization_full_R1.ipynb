{
  "cells": [
    {
      "attachments": {},
      "cell_type": "markdown",
      "metadata": {},
      "source": [
        "# GMAC Optimization: Grid search of all GMAC parameters\n",
        "\n",
        "The GMAC algorithm has the following parameters required to map the raw acceleration\n",
        "data to the arm-use space. These parameters are:\n",
        "1. Pitch angle threshold. $\\left( \\theta_{th} \\right)$\n",
        "2. Acceleration magnitude threshold. $\\left( a_{th} \\right)$"
      ]
    },
    {
      "attachments": {},
      "cell_type": "markdown",
      "metadata": {},
      "source": [
        "### Getting the data\n",
        "\n",
        "If you do not already have the data to run this this notebook, \n",
        "you need to download it from here.  https://github.com/biorehab/upper-limb-use-assessment\n",
        "\n"
      ]
    },
    {
      "attachments": {},
      "cell_type": "markdown",
      "metadata": {},
      "source": [
        "### Standards modules"
      ]
    },
    {
      "cell_type": "code",
      "execution_count": 1,
      "metadata": {},
      "outputs": [],
      "source": [
        "%reload_ext autoreload\n",
        "%autoreload 2"
      ]
    },
    {
      "cell_type": "code",
      "execution_count": 2,
      "metadata": {},
      "outputs": [],
      "source": [
        "import sys\n",
        "import os\n",
        "import numpy as np\n",
        "import pandas as pd\n",
        "import matplotlib.pyplot as plt\n",
        "from scipy.stats import pearsonr\n",
        "import scipy\n",
        "from scipy import signal\n",
        "import pathlib\n",
        "import itertools\n",
        "import glob\n",
        "import json"
      ]
    },
    {
      "cell_type": "code",
      "execution_count": 3,
      "metadata": {},
      "outputs": [],
      "source": [
        "import seaborn as sns"
      ]
    },
    {
      "cell_type": "code",
      "execution_count": 4,
      "metadata": {},
      "outputs": [],
      "source": [
        "from matplotlib.ticker import MaxNLocator"
      ]
    },
    {
      "attachments": {},
      "cell_type": "markdown",
      "metadata": {
        "id": "CmFNtZKR71KW"
      },
      "source": [
        "### Custom Modules"
      ]
    },
    {
      "cell_type": "code",
      "execution_count": 5,
      "metadata": {
        "colab": {
          "base_uri": "https://localhost:8080/"
        },
        "id": "MjSXcfJ-8Pyq",
        "outputId": "ee0f6d9a-a224-4a12-f481-db1f6e0d50af"
      },
      "outputs": [],
      "source": [
        "sys.path.append(\"../scripts\")\n",
        "\n",
        "import classification_algorithms as ca\n",
        "import reduced_models as rm\n",
        "import task_analysis as ta\n",
        "\n",
        "import misc"
      ]
    },
    {
      "cell_type": "code",
      "execution_count": 6,
      "metadata": {},
      "outputs": [],
      "source": [
        "import gmac"
      ]
    },
    {
      "cell_type": "code",
      "execution_count": 7,
      "metadata": {},
      "outputs": [],
      "source": [
        "# Define the font family and size\n",
        "plt.rcParams['svg.fonttype'] = 'none'\n",
        "plt.rcParams['font.family'] = 'sans-serif'\n",
        "plt.rcParams['font.sans-serif'] = ['Helvetica']\n",
        "plt.rcParams['font.weight'] = 'light'  # Use 'light' font weight\n"
      ]
    },
    {
      "attachments": {},
      "cell_type": "markdown",
      "metadata": {},
      "source": [
        "## Define notebook level constants"
      ]
    },
    {
      "cell_type": "code",
      "execution_count": 8,
      "metadata": {},
      "outputs": [],
      "source": [
        "# Sampling rate for the data is 50ms\n",
        "dT = 0.02\n",
        "Fs = int(1 / dT)"
      ]
    },
    {
      "attachments": {},
      "cell_type": "markdown",
      "metadata": {},
      "source": [
        "## Read the Controls and Patients Data"
      ]
    },
    {
      "cell_type": "code",
      "execution_count": 9,
      "metadata": {
        "id": "mSMQTzY48cme"
      },
      "outputs": [],
      "source": [
        "# Read healthy and control data\n",
        "left, right = misc.read_data(subject_type='control')\n",
        "aff, unaff = misc.read_data(subject_type='patient')\n",
        "\n",
        "# Assign segments for each subject\n",
        "left = pd.concat([misc.assign_segments(left[left.subject == subj], dur_th=1, dT=dT)\n",
        "                  for subj in left.subject.unique()], axis=0)\n",
        "right = pd.concat([misc.assign_segments(right[right.subject == subj], dur_th=1, dT=dT)\n",
        "                   for subj in right.subject.unique()])\n",
        "aff = pd.concat([misc.assign_segments(aff[aff.subject == subj], dur_th=1, dT=dT)\n",
        "                 for subj in aff.subject.unique()])\n",
        "unaff = pd.concat([misc.assign_segments(unaff[unaff.subject == subj], dur_th=1, dT=dT)\n",
        "                   for subj in unaff.subject.unique()])\n",
        "\n",
        "# All limbs data ddf\n",
        "datadf = {\n",
        "    \"left\": left,\n",
        "    \"right\": right,\n",
        "    \"aff\": aff,\n",
        "    \"unaff\": unaff\n",
        "}"
      ]
    },
    {
      "cell_type": "markdown",
      "metadata": {},
      "source": [
        "### Supporting functions"
      ]
    },
    {
      "cell_type": "code",
      "execution_count": 10,
      "metadata": {},
      "outputs": [],
      "source": [
        "def compute_confusion_matrix(actual: np.array, estimated: np.array) -> np.array:\n",
        "    \"\"\"\n",
        "    Computes the components of the confusion matrix.\n",
        "    \"\"\"\n",
        "    actual = np.array(actual, dtype=int)\n",
        "    estimated = np.array(estimated, dtype=int)\n",
        "    return {\n",
        "        \"TN\": np.sum((actual + estimated) == 0), # TN\n",
        "        \"FP\": np.sum((1 - actual + estimated) == 2), # FP\n",
        "        \"FN\": np.sum((actual + 1 - estimated) == 2), # FN\n",
        "        \"TP\": np.sum((actual + estimated) == 2), # TP\n",
        "    }"
      ]
    },
    {
      "cell_type": "markdown",
      "metadata": {},
      "source": [
        "## Dual Threshold"
      ]
    },
    {
      "cell_type": "markdown",
      "metadata": {},
      "source": [
        "#### Parameter ranges for the grid search"
      ]
    },
    {
      "cell_type": "code",
      "execution_count": 11,
      "metadata": {},
      "outputs": [],
      "source": [
        "basedir = \"../data/output-r1-full\"\n",
        "\n",
        "# Make directory if it does not exist\n",
        "outdir = pathlib.Path(basedir, \"gmac\")\n",
        "outdir.mkdir(parents=True, exist_ok=True)\n",
        "\n",
        "# GMAC Parameter ranges\n",
        "gmac_param_ranges = {\n",
        "    \"np\": list(map(int, [1, Fs // 2, Fs])),\n",
        "    \"fc\": [0.01, 0.1, 1],\n",
        "    \"nc\": [2, 4],\n",
        "    \"nam\": list(map(int, [1, Fs // 2, Fs])),\n",
        "    \"p_th\": list(range(-90, 100, 10)),\n",
        "    \"p_th_band\": list(range(0, 100, 20)),\n",
        "    \"am_th\": [0, 0.1, 0.25],\n",
        "    \"am_th_band\": [0]\n",
        "}\n",
        "\n",
        "# Save params file.\n",
        "with open(pathlib.Path(outdir, \"gmac_params.json\"), \"w\") as f:\n",
        "    json.dump(gmac_param_ranges, f, indent=4)"
      ]
    },
    {
      "cell_type": "code",
      "execution_count": 12,
      "metadata": {},
      "outputs": [
        {
          "name": "stdout",
          "output_type": "stream",
          "text": [
            "left   0, 1879 / 15390"
          ]
        },
        {
          "ename": "KeyboardInterrupt",
          "evalue": "",
          "output_type": "error",
          "traceback": [
            "\u001b[0;31m---------------------------------------------------------------------------\u001b[0m",
            "\u001b[0;31mKeyboardInterrupt\u001b[0m                         Traceback (most recent call last)",
            "Cell \u001b[0;32mIn[12], line 28\u001b[0m\n\u001b[1;32m     26\u001b[0m df \u001b[38;5;241m=\u001b[39m limbdf[limbdf\u001b[38;5;241m.\u001b[39msubject\u001b[38;5;241m==\u001b[39msubj]\n\u001b[1;32m     27\u001b[0m \u001b[38;5;66;03m# Compute gmac\u001b[39;00m\n\u001b[0;32m---> 28\u001b[0m _gmac \u001b[38;5;241m=\u001b[39m np\u001b[38;5;241m.\u001b[39mhstack([\n\u001b[1;32m     29\u001b[0m     gmac\u001b[38;5;241m.\u001b[39mestimate_gmac2(_df[accl_cols]\u001b[38;5;241m.\u001b[39mvalues, accl_farm_inx\u001b[38;5;241m=\u001b[39m\u001b[38;5;241m0\u001b[39m, Fs\u001b[38;5;241m=\u001b[39mFs,\n\u001b[1;32m     30\u001b[0m                         params\u001b[38;5;241m=\u001b[39m_pc)\n\u001b[1;32m     31\u001b[0m     \u001b[38;5;28;01mfor\u001b[39;00m _, _df \u001b[38;5;129;01min\u001b[39;00m df\u001b[38;5;241m.\u001b[39mgroupby(\u001b[38;5;124m'\u001b[39m\u001b[38;5;124msegment\u001b[39m\u001b[38;5;124m'\u001b[39m)\n\u001b[1;32m     32\u001b[0m ])\n\u001b[1;32m     33\u001b[0m \u001b[38;5;66;03m# Compute performance\u001b[39;00m\n\u001b[1;32m     34\u001b[0m _perf \u001b[38;5;241m=\u001b[39m compute_confusion_matrix(actual\u001b[38;5;241m=\u001b[39mdf\u001b[38;5;241m.\u001b[39mgnd\u001b[38;5;241m.\u001b[39mvalues, estimated\u001b[38;5;241m=\u001b[39m_gmac)\n",
            "Cell \u001b[0;32mIn[12], line 29\u001b[0m, in \u001b[0;36m<listcomp>\u001b[0;34m(.0)\u001b[0m\n\u001b[1;32m     26\u001b[0m df \u001b[38;5;241m=\u001b[39m limbdf[limbdf\u001b[38;5;241m.\u001b[39msubject\u001b[38;5;241m==\u001b[39msubj]\n\u001b[1;32m     27\u001b[0m \u001b[38;5;66;03m# Compute gmac\u001b[39;00m\n\u001b[1;32m     28\u001b[0m _gmac \u001b[38;5;241m=\u001b[39m np\u001b[38;5;241m.\u001b[39mhstack([\n\u001b[0;32m---> 29\u001b[0m     \u001b[43mgmac\u001b[49m\u001b[38;5;241;43m.\u001b[39;49m\u001b[43mestimate_gmac2\u001b[49m\u001b[43m(\u001b[49m\u001b[43m_df\u001b[49m\u001b[43m[\u001b[49m\u001b[43maccl_cols\u001b[49m\u001b[43m]\u001b[49m\u001b[38;5;241;43m.\u001b[39;49m\u001b[43mvalues\u001b[49m\u001b[43m,\u001b[49m\u001b[43m \u001b[49m\u001b[43maccl_farm_inx\u001b[49m\u001b[38;5;241;43m=\u001b[39;49m\u001b[38;5;241;43m0\u001b[39;49m\u001b[43m,\u001b[49m\u001b[43m \u001b[49m\u001b[43mFs\u001b[49m\u001b[38;5;241;43m=\u001b[39;49m\u001b[43mFs\u001b[49m\u001b[43m,\u001b[49m\n\u001b[1;32m     30\u001b[0m \u001b[43m                        \u001b[49m\u001b[43mparams\u001b[49m\u001b[38;5;241;43m=\u001b[39;49m\u001b[43m_pc\u001b[49m\u001b[43m)\u001b[49m\n\u001b[1;32m     31\u001b[0m     \u001b[38;5;28;01mfor\u001b[39;00m _, _df \u001b[38;5;129;01min\u001b[39;00m df\u001b[38;5;241m.\u001b[39mgroupby(\u001b[38;5;124m'\u001b[39m\u001b[38;5;124msegment\u001b[39m\u001b[38;5;124m'\u001b[39m)\n\u001b[1;32m     32\u001b[0m ])\n\u001b[1;32m     33\u001b[0m \u001b[38;5;66;03m# Compute performance\u001b[39;00m\n\u001b[1;32m     34\u001b[0m _perf \u001b[38;5;241m=\u001b[39m compute_confusion_matrix(actual\u001b[38;5;241m=\u001b[39mdf\u001b[38;5;241m.\u001b[39mgnd\u001b[38;5;241m.\u001b[39mvalues, estimated\u001b[38;5;241m=\u001b[39m_gmac)\n",
            "File \u001b[0;32m~/Documents/work/projects/armuse/gmac/notebooks/../scripts/gmac.py:70\u001b[0m, in \u001b[0;36mestimate_gmac2\u001b[0;34m(accl, accl_farm_inx, Fs, params, full_output)\u001b[0m\n\u001b[1;32m     66\u001b[0m accl_mag \u001b[38;5;241m=\u001b[39m estimate_accl_mag(accl, Fs, fc\u001b[38;5;241m=\u001b[39mparams[\u001b[38;5;124m\"\u001b[39m\u001b[38;5;124mfc\u001b[39m\u001b[38;5;124m\"\u001b[39m], nc\u001b[38;5;241m=\u001b[39mparams[\u001b[38;5;124m\"\u001b[39m\u001b[38;5;124mnc\u001b[39m\u001b[38;5;124m\"\u001b[39m],\n\u001b[1;32m     67\u001b[0m                              n_am\u001b[38;5;241m=\u001b[39mparams[\u001b[38;5;124m\"\u001b[39m\u001b[38;5;124mnam\u001b[39m\u001b[38;5;124m\"\u001b[39m])\n\u001b[1;32m     69\u001b[0m \u001b[38;5;66;03m# Compute GMAC\u001b[39;00m\n\u001b[0;32m---> 70\u001b[0m _pout \u001b[38;5;241m=\u001b[39m \u001b[43mdetector_with_hystersis\u001b[49m\u001b[43m(\u001b[49m\u001b[43mpitch\u001b[49m\u001b[43m,\u001b[49m\u001b[43m \u001b[49m\u001b[43mparams\u001b[49m\u001b[43m[\u001b[49m\u001b[38;5;124;43m\"\u001b[39;49m\u001b[38;5;124;43mp_th\u001b[39;49m\u001b[38;5;124;43m\"\u001b[39;49m\u001b[43m]\u001b[49m\u001b[43m,\u001b[49m\u001b[43m \u001b[49m\u001b[43mparams\u001b[49m\u001b[43m[\u001b[49m\u001b[38;5;124;43m\"\u001b[39;49m\u001b[38;5;124;43mp_th_band\u001b[39;49m\u001b[38;5;124;43m\"\u001b[39;49m\u001b[43m]\u001b[49m\u001b[43m)\u001b[49m\n\u001b[1;32m     71\u001b[0m _amout \u001b[38;5;241m=\u001b[39m detector_with_hystersis(accl_mag, params[\u001b[38;5;124m\"\u001b[39m\u001b[38;5;124mam_th\u001b[39m\u001b[38;5;124m\"\u001b[39m], params[\u001b[38;5;124m\"\u001b[39m\u001b[38;5;124mam_th_band\u001b[39m\u001b[38;5;124m\"\u001b[39m])\n\u001b[1;32m     72\u001b[0m \u001b[38;5;28;01mreturn\u001b[39;00m (pitch, accl_mag, _pout \u001b[38;5;241m*\u001b[39m _amout) \u001b[38;5;28;01mif\u001b[39;00m full_output \u001b[38;5;28;01melse\u001b[39;00m (_pout \u001b[38;5;241m*\u001b[39m _amout)\n",
            "File \u001b[0;32m~/Documents/work/projects/armuse/gmac/notebooks/../scripts/gmac.py:84\u001b[0m, in \u001b[0;36mdetector_with_hystersis\u001b[0;34m(x, th, th_band)\u001b[0m\n\u001b[1;32m     82\u001b[0m         y[i] \u001b[38;5;241m=\u001b[39m \u001b[38;5;241m1\u001b[39m \u001b[38;5;241m*\u001b[39m (x[i] \u001b[38;5;241m>\u001b[39m th)\n\u001b[1;32m     83\u001b[0m     \u001b[38;5;28;01melse\u001b[39;00m:\n\u001b[0;32m---> 84\u001b[0m         y[i] \u001b[38;5;241m=\u001b[39m \u001b[38;5;241m1\u001b[39m \u001b[38;5;241m*\u001b[39m (\u001b[43mx\u001b[49m\u001b[43m[\u001b[49m\u001b[43mi\u001b[49m\u001b[43m]\u001b[49m\u001b[43m \u001b[49m\u001b[38;5;241;43m>\u001b[39;49m\u001b[38;5;241;43m=\u001b[39;49m\u001b[43m \u001b[49m\u001b[43m(\u001b[49m\u001b[43mth\u001b[49m\u001b[43m \u001b[49m\u001b[38;5;241;43m-\u001b[39;49m\u001b[43m \u001b[49m\u001b[43mth_band\u001b[49m\u001b[43m)\u001b[49m)\n\u001b[1;32m     85\u001b[0m \u001b[38;5;28;01mreturn\u001b[39;00m y\n",
            "\u001b[0;31mKeyboardInterrupt\u001b[0m: "
          ]
        }
      ],
      "source": [
        "dfcols = ([\"subject\"] + list(gmac_param_ranges.keys()) +\n",
        "            [\"limb\"] +\n",
        "            [\"TN\", \"FP\", \"FN\", \"TP\"] +\n",
        "            [\"TNr\", \"FPr\", \"FNr\", \"TPr\"] +\n",
        "            [\"sensitivity\", \"specificity\", \"youden\"])\n",
        "gmac_perf_df = pd.DataFrame(columns=dfcols)\n",
        "for limbkey in [\"left\", \"right\", \"aff\", \"unaff\"]:\n",
        "    # Which limb?\n",
        "    limbdf = datadf[limbkey]\n",
        "    subjects = limbdf.subject.unique()\n",
        "\n",
        "    # Estimate pitch for each subject.\n",
        "    accl_cols = ['ax', 'ay', 'az']\n",
        "\n",
        "    # Number of all possible combinations\n",
        "    Ncombs = len(list(misc.generate_param_combinations_gmac(gmac_param_ranges)))\n",
        "\n",
        "    # All parameter combinations.\n",
        "    param_combs = list(misc.generate_param_combinations_gmac(gmac_param_ranges))\n",
        "\n",
        "    for i, subj in enumerate(subjects):\n",
        "        # Go through all parameter combinations.\n",
        "        _sinx = limbdf.subject == subj\n",
        "        for j, _pc in enumerate(param_combs):\n",
        "            sys.stdout.write(f\"\\r{limbkey} {i:3d}, {j:3d} / {len(param_combs):3d}\")\n",
        "            df = limbdf[limbdf.subject==subj]\n",
        "            # Compute gmac\n",
        "            _gmac = np.hstack([\n",
        "                gmac.estimate_gmac2(_df[accl_cols].values, accl_farm_inx=0, Fs=Fs,\n",
        "                                    params=_pc)\n",
        "                for _, _df in df.groupby('segment')\n",
        "            ])\n",
        "            # Compute performance\n",
        "            _perf = compute_confusion_matrix(actual=df.gnd.values, estimated=_gmac)\n",
        "            \n",
        "            # Update gmac df\n",
        "            _rowdf = pd.DataFrame({\"subject\": subj} | _pc | _perf, index=[0])\n",
        "            _rowdf[[\"TNr\", \"FPr\", \"FNr\", \"TPr\"]] = _rowdf[[\"TN\", \"FP\", \"FN\", \"TP\"]] / np.sum(_rowdf[[\"TN\", \"FP\", \"FN\", \"TP\"]].values)\n",
        "            _rowdf[\"sensitivity\"] = _rowdf.TP / (_rowdf.TP + _rowdf.FN)\n",
        "            _rowdf[\"specificity\"] = _rowdf.TN / (_rowdf.TN + _rowdf.FP)\n",
        "            _rowdf[\"youden\"] = _rowdf.sensitivity + _rowdf.specificity - 1\n",
        "            _rowdf[\"limb\"] = limbkey\n",
        "            gmac_perf_df = pd.concat(\n",
        "                (gmac_perf_df, _rowdf),\n",
        "                ignore_index=True\n",
        "            )\n",
        "    # Save data\n",
        "    gmac_perf_df.to_csv(pathlib.Path(basedir, \"gmac\", f\"perf_gmac.csv\").as_posix(), index=False)"
      ]
    },
    {
      "cell_type": "code",
      "execution_count": null,
      "metadata": {},
      "outputs": [],
      "source": []
    }
  ],
  "metadata": {
    "colab": {
      "provenance": []
    },
    "kernelspec": {
      "display_name": "gmac",
      "language": "python",
      "name": "python3"
    },
    "language_info": {
      "codemirror_mode": {
        "name": "ipython",
        "version": 3
      },
      "file_extension": ".py",
      "mimetype": "text/x-python",
      "name": "python",
      "nbconvert_exporter": "python",
      "pygments_lexer": "ipython3",
      "version": "3.9.16"
    }
  },
  "nbformat": 4,
  "nbformat_minor": 0
}
