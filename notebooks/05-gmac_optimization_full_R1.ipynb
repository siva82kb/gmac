{
  "cells": [
    {
      "attachments": {},
      "cell_type": "markdown",
      "metadata": {},
      "source": [
        "# GMAC Optimization: Grid search of all GMAC parameters\n",
        "\n",
        "The GMAC algorithm has the following parameters required to map the raw acceleration\n",
        "data to the arm-use space. These parameters are:\n",
        "1. Pitch angle threshold. $\\left( \\theta_{th} \\right)$\n",
        "2. Acceleration magnitude threshold. $\\left( a_{th} \\right)$"
      ]
    },
    {
      "attachments": {},
      "cell_type": "markdown",
      "metadata": {},
      "source": [
        "### Getting the data\n",
        "\n",
        "If you do not already have the data to run this this notebook, \n",
        "you need to download it from here.  https://github.com/biorehab/upper-limb-use-assessment\n",
        "\n"
      ]
    },
    {
      "attachments": {},
      "cell_type": "markdown",
      "metadata": {},
      "source": [
        "### Standards modules"
      ]
    },
    {
      "cell_type": "code",
      "execution_count": 1,
      "metadata": {},
      "outputs": [],
      "source": [
        "%reload_ext autoreload\n",
        "%autoreload 2"
      ]
    },
    {
      "cell_type": "code",
      "execution_count": 2,
      "metadata": {},
      "outputs": [],
      "source": [
        "import sys\n",
        "import os\n",
        "import numpy as np\n",
        "import pandas as pd\n",
        "import matplotlib.pyplot as plt\n",
        "from scipy.stats import pearsonr\n",
        "import scipy\n",
        "from scipy import signal\n",
        "import pathlib\n",
        "import itertools\n",
        "import glob\n",
        "import json"
      ]
    },
    {
      "cell_type": "code",
      "execution_count": 3,
      "metadata": {},
      "outputs": [],
      "source": [
        "import seaborn as sns"
      ]
    },
    {
      "cell_type": "code",
      "execution_count": 4,
      "metadata": {},
      "outputs": [],
      "source": [
        "from matplotlib.ticker import MaxNLocator"
      ]
    },
    {
      "attachments": {},
      "cell_type": "markdown",
      "metadata": {
        "id": "CmFNtZKR71KW"
      },
      "source": [
        "### Custom Modules"
      ]
    },
    {
      "cell_type": "code",
      "execution_count": 5,
      "metadata": {
        "colab": {
          "base_uri": "https://localhost:8080/"
        },
        "id": "MjSXcfJ-8Pyq",
        "outputId": "ee0f6d9a-a224-4a12-f481-db1f6e0d50af"
      },
      "outputs": [],
      "source": [
        "sys.path.append(\"../scripts\")\n",
        "\n",
        "import classification_algorithms as ca\n",
        "import reduced_models as rm\n",
        "import task_analysis as ta\n",
        "\n",
        "import misc"
      ]
    },
    {
      "cell_type": "code",
      "execution_count": 6,
      "metadata": {},
      "outputs": [],
      "source": [
        "import gmac"
      ]
    },
    {
      "cell_type": "code",
      "execution_count": 7,
      "metadata": {},
      "outputs": [],
      "source": [
        "# Define the font family and size\n",
        "plt.rcParams['svg.fonttype'] = 'none'\n",
        "plt.rcParams['font.family'] = 'sans-serif'\n",
        "plt.rcParams['font.sans-serif'] = ['Helvetica']\n",
        "plt.rcParams['font.weight'] = 'light'  # Use 'light' font weight\n"
      ]
    },
    {
      "attachments": {},
      "cell_type": "markdown",
      "metadata": {},
      "source": [
        "## Define notebook level constants"
      ]
    },
    {
      "cell_type": "code",
      "execution_count": 8,
      "metadata": {},
      "outputs": [],
      "source": [
        "# Sampling rate for the data is 50ms\n",
        "dT = 0.02\n",
        "Fs = int(1 / dT)"
      ]
    },
    {
      "attachments": {},
      "cell_type": "markdown",
      "metadata": {},
      "source": [
        "## Read the Controls and Patients Data"
      ]
    },
    {
      "cell_type": "code",
      "execution_count": 9,
      "metadata": {
        "id": "mSMQTzY48cme"
      },
      "outputs": [],
      "source": [
        "# Read healthy and control data\n",
        "left, right = misc.read_data(subject_type='control')\n",
        "aff, unaff = misc.read_data(subject_type='patient')\n",
        "\n",
        "# Assign segments for each subject\n",
        "left = pd.concat([misc.assign_segments(left[left.subject == subj], dur_th=1, dT=dT)\n",
        "                  for subj in left.subject.unique()], axis=0)\n",
        "right = pd.concat([misc.assign_segments(right[right.subject == subj], dur_th=1, dT=dT)\n",
        "                   for subj in right.subject.unique()])\n",
        "aff = pd.concat([misc.assign_segments(aff[aff.subject == subj], dur_th=1, dT=dT)\n",
        "                 for subj in aff.subject.unique()])\n",
        "unaff = pd.concat([misc.assign_segments(unaff[unaff.subject == subj], dur_th=1, dT=dT)\n",
        "                   for subj in unaff.subject.unique()])\n",
        "\n",
        "# All limbs data ddf\n",
        "datadf = {\n",
        "    \"left\": left,\n",
        "    \"right\": right,\n",
        "    \"aff\": aff,\n",
        "    \"unaff\": unaff\n",
        "}"
      ]
    },
    {
      "cell_type": "markdown",
      "metadata": {},
      "source": [
        "### Supporting functions"
      ]
    },
    {
      "cell_type": "code",
      "execution_count": 10,
      "metadata": {},
      "outputs": [],
      "source": [
        "def compute_confusion_matrix(actual: np.array, estimated: np.array) -> np.array:\n",
        "    \"\"\"\n",
        "    Computes the components of the confusion matrix.\n",
        "    \"\"\"\n",
        "    actual = np.array(actual, dtype=int)\n",
        "    estimated = np.array(estimated, dtype=int)\n",
        "    return {\n",
        "        \"TN\": np.sum((actual + estimated) == 0), # TN\n",
        "        \"FP\": np.sum((1 - actual + estimated) == 2), # FP\n",
        "        \"FN\": np.sum((actual + 1 - estimated) == 2), # FN\n",
        "        \"TP\": np.sum((actual + estimated) == 2), # TP\n",
        "    }"
      ]
    },
    {
      "cell_type": "markdown",
      "metadata": {},
      "source": [
        "## Dual Threshold"
      ]
    },
    {
      "cell_type": "markdown",
      "metadata": {},
      "source": [
        "#### Parameter ranges for the grid search"
      ]
    },
    {
      "cell_type": "code",
      "execution_count": 11,
      "metadata": {},
      "outputs": [],
      "source": [
        "basedir = \"../data/output-r1-full\"\n",
        "\n",
        "# Make directory if it does not exist\n",
        "outdir = pathlib.Path(basedir, \"gmac\")\n",
        "outdir.mkdir(parents=True, exist_ok=True)\n",
        "\n",
        "# GMAC Parameter ranges\n",
        "gmac_param_ranges = {\n",
        "    \"np\": list(map(int, [1, Fs // 2, Fs])),\n",
        "    \"fc\": [0.01, 0.1, 1],\n",
        "    \"nc\": [2, 4],\n",
        "    \"nam\": list(map(int, [1, Fs // 2, Fs])),\n",
        "    \"p_th\": list(range(-90, 100, 10)),\n",
        "    \"p_th_band\": list(range(0, 100, 20)),\n",
        "    \"am_th\": [0, 0.1, 0.25],\n",
        "    \"am_th_band\": [0]\n",
        "}\n",
        "\n",
        "# Save params file.\n",
        "with open(pathlib.Path(outdir, \"gmac_params.json\"), \"w\") as f:\n",
        "    json.dump(gmac_param_ranges, f, indent=4)"
      ]
    },
    {
      "cell_type": "code",
      "execution_count": 12,
      "metadata": {},
      "outputs": [
        {
          "name": "stdout",
          "output_type": "stream",
          "text": [
            "left   8, 2846 / 153900"
          ]
        }
      ],
      "source": [
        "dfcols = ([\"subject\"] + list(gmac_param_ranges.keys()) +\n",
        "            [\"limb\"] +\n",
        "            [\"TN\", \"FP\", \"FN\", \"TP\"] +\n",
        "            [\"TNr\", \"FPr\", \"FNr\", \"TPr\"] +\n",
        "            [\"sensitivity\", \"specificity\", \"youden\"])\n",
        "gmac_perf_df = pd.DataFrame(columns=dfcols)\n",
        "for limbkey in [\"left\", \"right\", \"aff\", \"unaff\"]:\n",
        "    # Which limb?\n",
        "    limbdf = datadf[limbkey]\n",
        "    subjects = limbdf.subject.unique()\n",
        "\n",
        "    # Estimate pitch for each subject.\n",
        "    accl_cols = ['ax', 'ay', 'az']\n",
        "\n",
        "    # Number of all possible combinations\n",
        "    Ncombs = len(list(misc.generate_param_combinations_gmac(gmac_param_ranges)))\n",
        "\n",
        "    # All parameter combinations.\n",
        "    param_combs = list(misc.generate_param_combinations_gmac(gmac_param_ranges))\n",
        "\n",
        "    for i, subj in enumerate(subjects):\n",
        "        # Go through all parameter combinations.\n",
        "        _sinx = limbdf.subject == subj\n",
        "        for j, _pc in enumerate(param_combs):\n",
        "            sys.stdout.write(f\"\\r{limbkey} {i:3d}, {j:3d} / {len(param_combs):3d}\")\n",
        "            df = limbdf[limbdf.subject==subj]\n",
        "            # Compute gmac\n",
        "            _gmac = np.hstack([\n",
        "                gmac.estimate_gmac2(_df[accl_cols].values, accl_farm_inx=0, Fs=Fs,\n",
        "                                    params=_pc)\n",
        "                for _, _df in df.groupby('segment')\n",
        "            ])\n",
        "            # Compute performance\n",
        "            _perf = compute_confusion_matrix(actual=df.gnd.values, estimated=_gmac)\n",
        "            \n",
        "            # Update gmac df\n",
        "            _rowdf = pd.DataFrame({\"subject\": subj} | _pc | _perf, index=[0])\n",
        "            _rowdf[[\"TNr\", \"FPr\", \"FNr\", \"TPr\"]] = _rowdf[[\"TN\", \"FP\", \"FN\", \"TP\"]] / np.sum(_rowdf[[\"TN\", \"FP\", \"FN\", \"TP\"]].values)\n",
        "            _rowdf[\"sensitivity\"] = _rowdf.TP / (_rowdf.TP + _rowdf.FN)\n",
        "            _rowdf[\"specificity\"] = _rowdf.TN / (_rowdf.TN + _rowdf.FP)\n",
        "            _rowdf[\"youden\"] = _rowdf.sensitivity + _rowdf.specificity - 1\n",
        "            _rowdf[\"limb\"] = limbkey\n",
        "            gmac_perf_df = pd.concat(\n",
        "                (gmac_perf_df, _rowdf),\n",
        "                ignore_index=True\n",
        "            )\n",
        "    # Save data\n",
        "    gmac_perf_df.to_csv(pathlib.Path(basedir, \"gmac\", f\"perf_gmac.csv\").as_posix(), index=False)"
      ]
    },
    {
      "cell_type": "code",
      "execution_count": null,
      "metadata": {},
      "outputs": [],
      "source": []
    }
  ],
  "metadata": {
    "colab": {
      "provenance": []
    },
    "kernelspec": {
      "display_name": "gmac",
      "language": "python",
      "name": "python3"
    },
    "language_info": {
      "codemirror_mode": {
        "name": "ipython",
        "version": 3
      },
      "file_extension": ".py",
      "mimetype": "text/x-python",
      "name": "python",
      "nbconvert_exporter": "python",
      "pygments_lexer": "ipython3",
      "version": "3.9.16"
    }
  },
  "nbformat": 4,
  "nbformat_minor": 0
}
