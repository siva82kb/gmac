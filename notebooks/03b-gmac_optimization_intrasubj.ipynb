{
  "cells": [
    {
      "attachments": {},
      "cell_type": "markdown",
      "metadata": {},
      "source": [
        "# GMAC Optimization: Grid search of GMAC parameters (intra-subject)\n",
        "\n",
        "The GMAC algorithm has the following parameters required to map the raw acceleration\n",
        "data to the arm-use space. These parameters are:\n",
        "1. Pitch angle threshold. $\\left( \\theta_{th} \\right)$\n",
        "2. Acceleration magnitude threshold. $\\left( a_{th} \\right)$"
      ]
    },
    {
      "attachments": {},
      "cell_type": "markdown",
      "metadata": {},
      "source": [
        "### Getting the data\n",
        "\n",
        "If you do not already have the data to run this this notebook, you need to download it from here.  https://github.com/biorehab/upper-limb-use-assessment\n",
        "\n"
      ]
    },
    {
      "attachments": {},
      "cell_type": "markdown",
      "metadata": {},
      "source": [
        "### Standards modules"
      ]
    },
    {
      "cell_type": "code",
      "execution_count": 1,
      "metadata": {},
      "outputs": [],
      "source": [
        "%reload_ext autoreload\n",
        "%autoreload 2"
      ]
    },
    {
      "cell_type": "code",
      "execution_count": 2,
      "metadata": {},
      "outputs": [],
      "source": [
        "import sys\n",
        "import os\n",
        "import numpy as np\n",
        "import pandas as pd\n",
        "import matplotlib.pyplot as plt\n",
        "from scipy.stats import pearsonr\n",
        "import scipy\n",
        "from scipy import signal\n",
        "import pathlib\n",
        "import itertools\n",
        "import glob\n",
        "import json"
      ]
    },
    {
      "cell_type": "code",
      "execution_count": 3,
      "metadata": {},
      "outputs": [],
      "source": [
        "import seaborn as sns"
      ]
    },
    {
      "cell_type": "code",
      "execution_count": 4,
      "metadata": {},
      "outputs": [],
      "source": [
        "from matplotlib.ticker import MaxNLocator"
      ]
    },
    {
      "attachments": {},
      "cell_type": "markdown",
      "metadata": {
        "id": "CmFNtZKR71KW"
      },
      "source": [
        "### Custom Modules"
      ]
    },
    {
      "cell_type": "code",
      "execution_count": 5,
      "metadata": {
        "colab": {
          "base_uri": "https://localhost:8080/"
        },
        "id": "MjSXcfJ-8Pyq",
        "outputId": "ee0f6d9a-a224-4a12-f481-db1f6e0d50af"
      },
      "outputs": [],
      "source": [
        "sys.path.append(\"../scripts\")\n",
        "\n",
        "import classification_algorithms as ca\n",
        "import reduced_models as rm\n",
        "import task_analysis as ta\n",
        "\n",
        "import misc"
      ]
    },
    {
      "cell_type": "code",
      "execution_count": 6,
      "metadata": {},
      "outputs": [],
      "source": [
        "import gmac"
      ]
    },
    {
      "cell_type": "code",
      "execution_count": 7,
      "metadata": {},
      "outputs": [],
      "source": [
        "# Define the font family and size\n",
        "# font = {'family': 'sans-serif', 'sans-serif': ['Helvetica']}\n",
        "\n",
        "# # Set the font properties for various elements\n",
        "# plt.rc('font', **font)\n",
        "\n",
        "plt.rcParams['svg.fonttype'] = 'none'\n",
        "plt.rcParams['font.family'] = 'sans-serif'\n",
        "plt.rcParams['font.sans-serif'] = ['Helvetica']\n",
        "plt.rcParams['font.weight'] = 'light'  # Use 'light' font weight\n"
      ]
    },
    {
      "attachments": {},
      "cell_type": "markdown",
      "metadata": {},
      "source": [
        "## Define notebook level constants"
      ]
    },
    {
      "cell_type": "code",
      "execution_count": 8,
      "metadata": {},
      "outputs": [],
      "source": [
        "# Sampling rate for the data is 50ms\n",
        "dT = 0.02\n",
        "Fs = int(1 / dT)"
      ]
    },
    {
      "attachments": {},
      "cell_type": "markdown",
      "metadata": {},
      "source": [
        "## Read the Controls and Patients Data"
      ]
    },
    {
      "cell_type": "code",
      "execution_count": 9,
      "metadata": {
        "id": "mSMQTzY48cme"
      },
      "outputs": [],
      "source": [
        "# Read healthy and control data\n",
        "left, right = misc.read_data(subject_type='control')\n",
        "aff, unaff = misc.read_data(subject_type='patient')\n",
        "\n",
        "# Assign segments for each subject\n",
        "left = pd.concat([misc.assign_segments(left[left.subject == subj], dur_th=1, dT=dT)\n",
        "                  for subj in left.subject.unique()], axis=0)\n",
        "right = pd.concat([misc.assign_segments(right[right.subject == subj], dur_th=1, dT=dT)\n",
        "                   for subj in right.subject.unique()])\n",
        "aff = pd.concat([misc.assign_segments(aff[aff.subject == subj], dur_th=1, dT=dT)\n",
        "                 for subj in aff.subject.unique()])\n",
        "unaff = pd.concat([misc.assign_segments(unaff[unaff.subject == subj], dur_th=1, dT=dT)\n",
        "                   for subj in unaff.subject.unique()])\n",
        "\n",
        "# All limbs data ddf\n",
        "datadf = {\n",
        "    \"left\": left,\n",
        "    \"right\": right,\n",
        "    \"aff\": aff,\n",
        "    \"unaff\": unaff\n",
        "}"
      ]
    },
    {
      "cell_type": "markdown",
      "metadata": {},
      "source": [
        "### Functions implementing the GMAC algorithm"
      ]
    },
    {
      "cell_type": "code",
      "execution_count": 10,
      "metadata": {},
      "outputs": [],
      "source": [
        "def compute_confusion_matrix(actual: np.array, estimated: np.array) -> np.array:\n",
        "    \"\"\"\n",
        "    Computes the components of the confusion matrix.\n",
        "    \"\"\"\n",
        "    actual = np.array(actual, dtype=int)\n",
        "    estimated = np.array(estimated, dtype=int)\n",
        "    return {\n",
        "        \"TN\": np.sum((actual + estimated) == 0), # TN\n",
        "        \"FP\": np.sum((1 - actual + estimated) == 2), # FP\n",
        "        \"FN\": np.sum((actual + 1 - estimated) == 2), # FN\n",
        "        \"TP\": np.sum((actual + estimated) == 2), # TP\n",
        "    }"
      ]
    },
    {
      "cell_type": "markdown",
      "metadata": {},
      "source": [
        "## Dual Threshold"
      ]
    },
    {
      "cell_type": "markdown",
      "metadata": {},
      "source": [
        "#### Parameter ranges for the grid search"
      ]
    },
    {
      "cell_type": "code",
      "execution_count": 11,
      "metadata": {},
      "outputs": [],
      "source": [
        "basedir = \"../data/output\"\n",
        "\n",
        "# Make directory if it does not exist\n",
        "outdir = pathlib.Path(basedir, \"gmac\")\n",
        "outdir.mkdir(parents=True, exist_ok=True)\n",
        "\n",
        "# GMAC Parameter ranges\n",
        "gmac_param_ranges = {\n",
        "    \"np\": [int(Fs // 2)],\n",
        "    \"fc\": [0.1],\n",
        "    \"nc\": [1],\n",
        "    \"nam\": [int(5*Fs)],\n",
        "    \"p_th\": list(range(-90, 100, 10)),\n",
        "    \"p_th_band\": list(range(0, 100, 20)),\n",
        "    \"am_th\": [0, 0.1, 0.25, 0.5],\n",
        "    \"am_th_band\": [0]\n",
        "}\n",
        "\n",
        "# Save params file.\n",
        "with open(pathlib.Path(outdir, \"gmac_params.json\"), \"w\") as f:\n",
        "    json.dump(gmac_param_ranges, f, indent=4)"
      ]
    },
    {
      "cell_type": "markdown",
      "metadata": {},
      "source": [
        "#### Compute UL use\n",
        "Do the same thing as the inter-subject model by computing the raw UL use \n",
        "signals for different subjects and different parameter combinations"
      ]
    },
    {
      "cell_type": "code",
      "execution_count": 12,
      "metadata": {},
      "outputs": [
        {
          "name": "stdout",
          "output_type": "stream",
          "text": [
            "left   1, 307 / 380"
          ]
        },
        {
          "ename": "KeyboardInterrupt",
          "evalue": "",
          "output_type": "error",
          "traceback": [
            "\u001b[0;31m---------------------------------------------------------------------------\u001b[0m",
            "\u001b[0;31mKeyboardInterrupt\u001b[0m                         Traceback (most recent call last)",
            "\u001b[1;32m/Users/siva82kb/Library/CloudStorage/OneDrive-ChristianMedicalCollege/projects/ArmUse/gmac/notebooks/03b-gmac_optimization_intrasubj.ipynb Cell 22\u001b[0m line \u001b[0;36m2\n\u001b[1;32m     <a href='vscode-notebook-cell:/Users/siva82kb/Library/CloudStorage/OneDrive-ChristianMedicalCollege/projects/ArmUse/gmac/notebooks/03b-gmac_optimization_intrasubj.ipynb#X30sZmlsZQ%3D%3D?line=21'>22</a>\u001b[0m df \u001b[39m=\u001b[39m limbdf[limbdf\u001b[39m.\u001b[39msubject\u001b[39m==\u001b[39msubj]\n\u001b[1;32m     <a href='vscode-notebook-cell:/Users/siva82kb/Library/CloudStorage/OneDrive-ChristianMedicalCollege/projects/ArmUse/gmac/notebooks/03b-gmac_optimization_intrasubj.ipynb#X30sZmlsZQ%3D%3D?line=22'>23</a>\u001b[0m \u001b[39m# Compute gmac\u001b[39;00m\n\u001b[0;32m---> <a href='vscode-notebook-cell:/Users/siva82kb/Library/CloudStorage/OneDrive-ChristianMedicalCollege/projects/ArmUse/gmac/notebooks/03b-gmac_optimization_intrasubj.ipynb#X30sZmlsZQ%3D%3D?line=23'>24</a>\u001b[0m _gmac \u001b[39m=\u001b[39m np\u001b[39m.\u001b[39mhstack([\n\u001b[1;32m     <a href='vscode-notebook-cell:/Users/siva82kb/Library/CloudStorage/OneDrive-ChristianMedicalCollege/projects/ArmUse/gmac/notebooks/03b-gmac_optimization_intrasubj.ipynb#X30sZmlsZQ%3D%3D?line=24'>25</a>\u001b[0m     gmac\u001b[39m.\u001b[39mestimate_gmac2(_df[accl_cols]\u001b[39m.\u001b[39mvalues, accl_farm_inx\u001b[39m=\u001b[39m\u001b[39m0\u001b[39m, Fs\u001b[39m=\u001b[39mFs,\n\u001b[1;32m     <a href='vscode-notebook-cell:/Users/siva82kb/Library/CloudStorage/OneDrive-ChristianMedicalCollege/projects/ArmUse/gmac/notebooks/03b-gmac_optimization_intrasubj.ipynb#X30sZmlsZQ%3D%3D?line=25'>26</a>\u001b[0m                         params\u001b[39m=\u001b[39m_pc)\n\u001b[1;32m     <a href='vscode-notebook-cell:/Users/siva82kb/Library/CloudStorage/OneDrive-ChristianMedicalCollege/projects/ArmUse/gmac/notebooks/03b-gmac_optimization_intrasubj.ipynb#X30sZmlsZQ%3D%3D?line=26'>27</a>\u001b[0m     \u001b[39mfor\u001b[39;00m _, _df \u001b[39min\u001b[39;00m df\u001b[39m.\u001b[39mgroupby(\u001b[39m'\u001b[39m\u001b[39msegment\u001b[39m\u001b[39m'\u001b[39m)\n\u001b[1;32m     <a href='vscode-notebook-cell:/Users/siva82kb/Library/CloudStorage/OneDrive-ChristianMedicalCollege/projects/ArmUse/gmac/notebooks/03b-gmac_optimization_intrasubj.ipynb#X30sZmlsZQ%3D%3D?line=27'>28</a>\u001b[0m ])\n\u001b[1;32m     <a href='vscode-notebook-cell:/Users/siva82kb/Library/CloudStorage/OneDrive-ChristianMedicalCollege/projects/ArmUse/gmac/notebooks/03b-gmac_optimization_intrasubj.ipynb#X30sZmlsZQ%3D%3D?line=28'>29</a>\u001b[0m \u001b[39m# Raw data df\u001b[39;00m\n\u001b[1;32m     <a href='vscode-notebook-cell:/Users/siva82kb/Library/CloudStorage/OneDrive-ChristianMedicalCollege/projects/ArmUse/gmac/notebooks/03b-gmac_optimization_intrasubj.ipynb#X30sZmlsZQ%3D%3D?line=29'>30</a>\u001b[0m _data \u001b[39m=\u001b[39m np\u001b[39m.\u001b[39mhstack((df\u001b[39m.\u001b[39mgnd\u001b[39m.\u001b[39mvalues\u001b[39m.\u001b[39mreshape(\u001b[39m-\u001b[39m\u001b[39m1\u001b[39m, \u001b[39m1\u001b[39m), _gmac\u001b[39m.\u001b[39mreshape(\u001b[39m-\u001b[39m\u001b[39m1\u001b[39m, \u001b[39m1\u001b[39m)))\n",
            "\u001b[1;32m/Users/siva82kb/Library/CloudStorage/OneDrive-ChristianMedicalCollege/projects/ArmUse/gmac/notebooks/03b-gmac_optimization_intrasubj.ipynb Cell 22\u001b[0m line \u001b[0;36m2\n\u001b[1;32m     <a href='vscode-notebook-cell:/Users/siva82kb/Library/CloudStorage/OneDrive-ChristianMedicalCollege/projects/ArmUse/gmac/notebooks/03b-gmac_optimization_intrasubj.ipynb#X30sZmlsZQ%3D%3D?line=21'>22</a>\u001b[0m df \u001b[39m=\u001b[39m limbdf[limbdf\u001b[39m.\u001b[39msubject\u001b[39m==\u001b[39msubj]\n\u001b[1;32m     <a href='vscode-notebook-cell:/Users/siva82kb/Library/CloudStorage/OneDrive-ChristianMedicalCollege/projects/ArmUse/gmac/notebooks/03b-gmac_optimization_intrasubj.ipynb#X30sZmlsZQ%3D%3D?line=22'>23</a>\u001b[0m \u001b[39m# Compute gmac\u001b[39;00m\n\u001b[1;32m     <a href='vscode-notebook-cell:/Users/siva82kb/Library/CloudStorage/OneDrive-ChristianMedicalCollege/projects/ArmUse/gmac/notebooks/03b-gmac_optimization_intrasubj.ipynb#X30sZmlsZQ%3D%3D?line=23'>24</a>\u001b[0m _gmac \u001b[39m=\u001b[39m np\u001b[39m.\u001b[39mhstack([\n\u001b[0;32m---> <a href='vscode-notebook-cell:/Users/siva82kb/Library/CloudStorage/OneDrive-ChristianMedicalCollege/projects/ArmUse/gmac/notebooks/03b-gmac_optimization_intrasubj.ipynb#X30sZmlsZQ%3D%3D?line=24'>25</a>\u001b[0m     gmac\u001b[39m.\u001b[39;49mestimate_gmac2(_df[accl_cols]\u001b[39m.\u001b[39;49mvalues, accl_farm_inx\u001b[39m=\u001b[39;49m\u001b[39m0\u001b[39;49m, Fs\u001b[39m=\u001b[39;49mFs,\n\u001b[1;32m     <a href='vscode-notebook-cell:/Users/siva82kb/Library/CloudStorage/OneDrive-ChristianMedicalCollege/projects/ArmUse/gmac/notebooks/03b-gmac_optimization_intrasubj.ipynb#X30sZmlsZQ%3D%3D?line=25'>26</a>\u001b[0m                         params\u001b[39m=\u001b[39;49m_pc)\n\u001b[1;32m     <a href='vscode-notebook-cell:/Users/siva82kb/Library/CloudStorage/OneDrive-ChristianMedicalCollege/projects/ArmUse/gmac/notebooks/03b-gmac_optimization_intrasubj.ipynb#X30sZmlsZQ%3D%3D?line=26'>27</a>\u001b[0m     \u001b[39mfor\u001b[39;00m _, _df \u001b[39min\u001b[39;00m df\u001b[39m.\u001b[39mgroupby(\u001b[39m'\u001b[39m\u001b[39msegment\u001b[39m\u001b[39m'\u001b[39m)\n\u001b[1;32m     <a href='vscode-notebook-cell:/Users/siva82kb/Library/CloudStorage/OneDrive-ChristianMedicalCollege/projects/ArmUse/gmac/notebooks/03b-gmac_optimization_intrasubj.ipynb#X30sZmlsZQ%3D%3D?line=27'>28</a>\u001b[0m ])\n\u001b[1;32m     <a href='vscode-notebook-cell:/Users/siva82kb/Library/CloudStorage/OneDrive-ChristianMedicalCollege/projects/ArmUse/gmac/notebooks/03b-gmac_optimization_intrasubj.ipynb#X30sZmlsZQ%3D%3D?line=28'>29</a>\u001b[0m \u001b[39m# Raw data df\u001b[39;00m\n\u001b[1;32m     <a href='vscode-notebook-cell:/Users/siva82kb/Library/CloudStorage/OneDrive-ChristianMedicalCollege/projects/ArmUse/gmac/notebooks/03b-gmac_optimization_intrasubj.ipynb#X30sZmlsZQ%3D%3D?line=29'>30</a>\u001b[0m _data \u001b[39m=\u001b[39m np\u001b[39m.\u001b[39mhstack((df\u001b[39m.\u001b[39mgnd\u001b[39m.\u001b[39mvalues\u001b[39m.\u001b[39mreshape(\u001b[39m-\u001b[39m\u001b[39m1\u001b[39m, \u001b[39m1\u001b[39m), _gmac\u001b[39m.\u001b[39mreshape(\u001b[39m-\u001b[39m\u001b[39m1\u001b[39m, \u001b[39m1\u001b[39m)))\n",
            "File \u001b[0;32m~/Library/CloudStorage/OneDrive-ChristianMedicalCollege/projects/ArmUse/gmac/notebooks/../scripts/gmac.py:71\u001b[0m, in \u001b[0;36mestimate_gmac2\u001b[0;34m(accl, accl_farm_inx, Fs, params, full_output)\u001b[0m\n\u001b[1;32m     69\u001b[0m \u001b[39m# Compute GMAC\u001b[39;00m\n\u001b[1;32m     70\u001b[0m _pout \u001b[39m=\u001b[39m detector_with_hystersis(pitch, params[\u001b[39m\"\u001b[39m\u001b[39mp_th\u001b[39m\u001b[39m\"\u001b[39m], params[\u001b[39m\"\u001b[39m\u001b[39mp_th_band\u001b[39m\u001b[39m\"\u001b[39m])\n\u001b[0;32m---> 71\u001b[0m _amout \u001b[39m=\u001b[39m detector_with_hystersis(accl_mag, params[\u001b[39m\"\u001b[39;49m\u001b[39mam_th\u001b[39;49m\u001b[39m\"\u001b[39;49m], params[\u001b[39m\"\u001b[39;49m\u001b[39mam_th_band\u001b[39;49m\u001b[39m\"\u001b[39;49m])\n\u001b[1;32m     72\u001b[0m \u001b[39mreturn\u001b[39;00m (pitch, accl_mag, _pout \u001b[39m*\u001b[39m _amout) \u001b[39mif\u001b[39;00m full_output \u001b[39melse\u001b[39;00m (_pout \u001b[39m*\u001b[39m _amout)\n",
            "File \u001b[0;32m~/Library/CloudStorage/OneDrive-ChristianMedicalCollege/projects/ArmUse/gmac/notebooks/../scripts/gmac.py:82\u001b[0m, in \u001b[0;36mdetector_with_hystersis\u001b[0;34m(x, th, th_band)\u001b[0m\n\u001b[1;32m     80\u001b[0m \u001b[39mfor\u001b[39;00m i \u001b[39min\u001b[39;00m \u001b[39mrange\u001b[39m(\u001b[39m1\u001b[39m, \u001b[39mlen\u001b[39m(y)):\n\u001b[1;32m     81\u001b[0m     \u001b[39mif\u001b[39;00m y[i\u001b[39m-\u001b[39m\u001b[39m1\u001b[39m] \u001b[39m==\u001b[39m \u001b[39m0\u001b[39m:\n\u001b[0;32m---> 82\u001b[0m         y[i] \u001b[39m=\u001b[39m \u001b[39m1\u001b[39;49m \u001b[39m*\u001b[39;49m (x[i] \u001b[39m>\u001b[39;49m th)\n\u001b[1;32m     83\u001b[0m     \u001b[39melse\u001b[39;00m:\n\u001b[1;32m     84\u001b[0m         y[i] \u001b[39m=\u001b[39m \u001b[39m1\u001b[39m \u001b[39m*\u001b[39m (x[i] \u001b[39m>\u001b[39m\u001b[39m=\u001b[39m (th \u001b[39m-\u001b[39m th_band))\n",
            "\u001b[0;31mKeyboardInterrupt\u001b[0m: "
          ]
        }
      ],
      "source": [
        "dfcols = ([\"subject\", \"limb\", \"pcinx\", \"gmac\", \"gt\"])\n",
        "for limbkey in [\"left\", \"right\", \"aff\", \"unaff\"]:\n",
        "    # Which limb?\n",
        "    limbdf = datadf[limbkey]\n",
        "    subjects = limbdf.subject.unique()\n",
        "\n",
        "    # Estimate pitch for each subject.\n",
        "    accl_cols = ['ax', 'ay', 'az']\n",
        "\n",
        "    # Number of all possible combinations\n",
        "    Ncombs = len(list(misc.generate_param_combinations_gmac(gmac_param_ranges)))\n",
        "\n",
        "    # All parameter combinations.\n",
        "    param_combs = list(misc.generate_param_combinations_gmac(gmac_param_ranges))\n",
        "\n",
        "    for i, subj in enumerate(subjects):\n",
        "        gmac_raw_df = pd.DataFrame(columns=dfcols)\n",
        "        # Go through all parameter combinations.\n",
        "        _sinx = limbdf.subject == subj\n",
        "        for j, _pc in enumerate(param_combs):\n",
        "            sys.stdout.write(f\"\\r{limbkey} {i:3d}, {j:3d} / {len(param_combs):3d}\")\n",
        "            df = limbdf[limbdf.subject==subj]\n",
        "            # Compute gmac\n",
        "            _gmac = np.hstack([\n",
        "                gmac.estimate_gmac2(_df[accl_cols].values, accl_farm_inx=0, Fs=Fs,\n",
        "                                    params=_pc)\n",
        "                for _, _df in df.groupby('segment')\n",
        "            ])\n",
        "            # Raw data df\n",
        "            _data = np.hstack((df.gnd.values.reshape(-1, 1), _gmac.reshape(-1, 1)))\n",
        "            _rawdf = pd.DataFrame(data=_data, columns=[\"gt\", \"gmac\"])\n",
        "            _rawdf[\"subject\"] = subj\n",
        "            _rawdf[\"limb\"] = limbkey\n",
        "            _rawdf[\"pcinx\"] = j\n",
        "            # Update gmac df\n",
        "            gmac_raw_df = pd.concat(\n",
        "                (gmac_raw_df, _rawdf),\n",
        "                ignore_index=True\n",
        "            )\n",
        "        # Save data\n",
        "        gmac_raw_df.to_csv(pathlib.Path(basedir, \"gmac\", f\"raw_gmac_{limbkey}_{subj}.csv\").as_posix(), index=False)"
      ]
    },
    {
      "cell_type": "code",
      "execution_count": 126,
      "metadata": {},
      "outputs": [
        {
          "name": "stdout",
          "output_type": "stream",
          "text": [
            "unaff   4, 379 / 380,  9"
          ]
        }
      ],
      "source": [
        "# Function to generate segment indices\n",
        "def get_inx(N, M, Ntest):\n",
        "    return np.any(\n",
        "        np.vstack((np.array(range(N)) < (Ntest * N // M),\n",
        "                   np.array(range(N)) >= ((Ntest + 1) * N // M))),\n",
        "        axis=0\n",
        "    )\n",
        "Kfolds = 10\n",
        "dfcols = ([\"subject\"] + list(gmac_param_ranges.keys()) +\n",
        "            [\"limb\"] + [\"segment\", \"type\"] + \n",
        "            [\"TN\", \"FP\", \"FN\", \"TP\"] +\n",
        "            [\"TNr\", \"FPr\", \"FNr\", \"TPr\"] +\n",
        "            [\"sensitivity\", \"specificity\", \"youden\"])\n",
        "gmac_intra_perf_df = pd.DataFrame(columns=dfcols)\n",
        "for limbkey in [\"left\", \"right\", \"aff\", \"unaff\"]:\n",
        "    # Which limb?\n",
        "    limbdf = datadf[limbkey]\n",
        "    # Files for each limb\n",
        "    lfiles = glob.glob(pathlib.Path(basedir, \"gmac\", f\"raw_gmac_{limbkey}_*.csv\").as_posix())\n",
        "    for i, _lf in enumerate(lfiles):\n",
        "        # Read file\n",
        "        _rawdf = pd.read_csv(_lf)\n",
        "        # Subject name\n",
        "        _subj = _rawdf.loc[0, \"subject\"]\n",
        "        # Ground truth df\n",
        "        _dfgnd = limbdf[limbdf.subject==_subj].reset_index(drop=True)\n",
        "        # Go through different parameter combinations\n",
        "        # All parameter combinations.\n",
        "        param_combs = list(misc.generate_param_combinations_gmac(gmac_param_ranges))\n",
        "        for j, _pc in enumerate(param_combs):\n",
        "            # Get the data for this parameter combination\n",
        "            _dfgmac = _rawdf[_rawdf.pcinx == j].reset_index(drop=True)\n",
        "            # Get segment indices\n",
        "            for k in range(Kfolds):\n",
        "                sys.stdout.write(f\"\\r{limbkey} {i:3d}, {j:3d} / {len(param_combs):3d}, {k:2d}\")\n",
        "                _traininx = get_inx(len(_dfgmac), Kfolds, k)\n",
        "                # Compute training performance\n",
        "                _perftrain = compute_confusion_matrix(\n",
        "                    _dfgnd.gnd.values[_traininx],\n",
        "                    _dfgmac.gmac.values[_traininx]\n",
        "                )\n",
        "                # Create training row\n",
        "                _traindf = pd.DataFrame({\"subject\": _subj} | _pc | _perftrain, index=[0])\n",
        "                _traindf[[\"TNr\", \"FPr\", \"FNr\", \"TPr\"]] = _traindf[[\"TN\", \"FP\", \"FN\", \"TP\"]] / np.sum(_traindf[[\"TN\", \"FP\", \"FN\", \"TP\"]].values)\n",
        "                _traindf[\"sensitivity\"] = _traindf.TP / (_traindf.TP + _traindf.FN)\n",
        "                _traindf[\"specificity\"] = _traindf.TN / (_traindf.TN + _traindf.FP)\n",
        "                _traindf[\"youden\"] = _traindf.sensitivity + _traindf.specificity - 1\n",
        "                _traindf[\"limb\"] = limbkey\n",
        "                _traindf[\"segment\"] = k\n",
        "                _traindf[\"type\"] = \"train\"\n",
        "                # Compute testing performance\n",
        "                _perftest = compute_confusion_matrix(\n",
        "                    _dfgnd.gnd.values[~_traininx],\n",
        "                    _dfgmac.gmac.values[~_traininx]\n",
        "                )\n",
        "                # Create testing row\n",
        "                _testdf = pd.DataFrame({\"subject\": _subj} | _pc | _perftest, index=[0])\n",
        "                _testdf[[\"TNr\", \"FPr\", \"FNr\", \"TPr\"]] = _testdf[[\"TN\", \"FP\", \"FN\", \"TP\"]] / np.sum(_testdf[[\"TN\", \"FP\", \"FN\", \"TP\"]].values)\n",
        "                _testdf[\"sensitivity\"] = _testdf.TP / (_testdf.TP + _testdf.FN)\n",
        "                _testdf[\"specificity\"] = _testdf.TN / (_testdf.TN + _testdf.FP)\n",
        "                _testdf[\"youden\"] = _testdf.sensitivity + _testdf.specificity - 1\n",
        "                _testdf[\"limb\"] = limbkey\n",
        "                _testdf[\"segment\"] = k\n",
        "                _testdf[\"type\"] = \"test\"\n",
        "                # Update gmac\n",
        "                gmac_intra_perf_df = pd.concat(\n",
        "                    (gmac_intra_perf_df, _traindf, _testdf),\n",
        "                    ignore_index=True\n",
        "                )\n",
        "\n",
        "# Save performance\n",
        "gmac_intra_perf_df.to_csv(pathlib.Path(basedir, \"gmac\", f\"perf_gmac_intra.csv\").as_posix(), index=False)"
      ]
    }
  ],
  "metadata": {
    "colab": {
      "provenance": []
    },
    "kernelspec": {
      "display_name": "ulfunc",
      "language": "python",
      "name": "python3"
    },
    "language_info": {
      "codemirror_mode": {
        "name": "ipython",
        "version": 3
      },
      "file_extension": ".py",
      "mimetype": "text/x-python",
      "name": "python",
      "nbconvert_exporter": "python",
      "pygments_lexer": "ipython3",
      "version": "3.9.16"
    },
    "vscode": {
      "interpreter": {
        "hash": "afcba11dd2daf669f4680c8822ef2b15aa2b775fe4e3866448929bf9bb9938b0"
      }
    }
  },
  "nbformat": 4,
  "nbformat_minor": 0
}
