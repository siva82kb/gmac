{
  "cells": [
    {
      "attachments": {},
      "cell_type": "markdown",
      "metadata": {},
      "source": [
        "# GMAC Acceleration Magnitude: Grid search of GMAC parameters\n",
        "\n",
        "The acceleration magnitude estimation for the GMAC algorithm has the following parameters:\n",
        "1. Butteworth highpass filter cut-off for accl. mag. estimation. $\\left( f_{c} \\right)$\n",
        "2. Butteworth highpass filter order for accl. mag. estimation. $\\left( n_{c} \\right)$\n",
        "3. Acceleration deadband threshold. $\\left( a_{th0} \\right)$\n",
        "4. Moving average window for acceleration magnitude estimation. $\\left( n_{am} \\right)$"
      ]
    },
    {
      "attachments": {},
      "cell_type": "markdown",
      "metadata": {},
      "source": [
        "### Getting the data\n",
        "\n",
        "If you do not already have the data to run this this notebook, you need to\n",
        "download it from here.\n",
        "\n"
      ]
    },
    {
      "cell_type": "markdown",
      "metadata": {},
      "source": [
        "### Standards modules"
      ]
    },
    {
      "cell_type": "code",
      "execution_count": 1,
      "metadata": {},
      "outputs": [],
      "source": [
        "%reload_ext autoreload\n",
        "%autoreload 2"
      ]
    },
    {
      "cell_type": "code",
      "execution_count": 46,
      "metadata": {},
      "outputs": [],
      "source": [
        "import sys\n",
        "import os\n",
        "import numpy as np\n",
        "import pandas as pd\n",
        "import matplotlib.pyplot as plt\n",
        "from scipy.stats import pearsonr, spearmanr\n",
        "import scipy\n",
        "from scipy import signal\n",
        "import pathlib\n",
        "import itertools\n",
        "import glob\n",
        "import json"
      ]
    },
    {
      "cell_type": "code",
      "execution_count": 3,
      "metadata": {},
      "outputs": [],
      "source": [
        "import seaborn as sns"
      ]
    },
    {
      "cell_type": "code",
      "execution_count": 4,
      "metadata": {},
      "outputs": [],
      "source": [
        "# Define a dictionary containing the font settings for LaTeX\n",
        "latex_font = {\n",
        "    \"text.usetex\": True,\n",
        "    \"text.latex.preamble\": r\"\\usepackage{amsmath}\",  # Optional: Include additional LaTeX packages\n",
        "    \"font.family\": \"serif\",  # Use a serif font (e.g., Times New Roman)\n",
        "    \"font.serif\": [\"Times New Roman\"],  # Specify the font family\n",
        "}\n",
        "\n",
        "# Update the Matplotlib configuration with the LaTeX font settings\n",
        "plt.rcParams.update(latex_font)"
      ]
    },
    {
      "cell_type": "markdown",
      "metadata": {},
      "source": [
        "### Custom Modules"
      ]
    },
    {
      "cell_type": "code",
      "execution_count": 8,
      "metadata": {},
      "outputs": [],
      "source": [
        "sys.path.append(\"../scripts\")\n",
        "\n",
        "import classification_algorithms as ca\n",
        "import reduced_models as rm\n",
        "import task_analysis as ta\n",
        "\n",
        "import misc"
      ]
    },
    {
      "cell_type": "code",
      "execution_count": 9,
      "metadata": {},
      "outputs": [],
      "source": [
        "import gmac"
      ]
    },
    {
      "cell_type": "code",
      "execution_count": 10,
      "metadata": {},
      "outputs": [],
      "source": [
        "# Define the font family and size\n",
        "# font = {'family': 'sans-serif', 'sans-serif': ['Helvetica']}\n",
        "\n",
        "# # Set the font properties for various elements\n",
        "# plt.rc('font', **font)\n",
        "\n",
        "plt.rcParams['svg.fonttype'] = 'none'\n",
        "plt.rcParams['font.family'] = 'sans-serif'\n",
        "plt.rcParams['font.sans-serif'] = ['Helvetica']\n",
        "plt.rcParams['font.weight'] = 'light'  # Use 'light' font weight\n"
      ]
    },
    {
      "cell_type": "markdown",
      "metadata": {},
      "source": [
        "## Define notebook level constants"
      ]
    },
    {
      "cell_type": "code",
      "execution_count": 11,
      "metadata": {},
      "outputs": [],
      "source": [
        "# Sampling rate for the data is 50ms\n",
        "dT = 0.02\n",
        "Fs = int(1 / dT)"
      ]
    },
    {
      "cell_type": "markdown",
      "metadata": {},
      "source": [
        "## Read the Controls and Patients Data"
      ]
    },
    {
      "cell_type": "code",
      "execution_count": 13,
      "metadata": {},
      "outputs": [],
      "source": [
        "# Read healthy and control data\n",
        "left, right = misc.read_data(subject_type='control')\n",
        "aff, unaff = misc.read_data(subject_type='patient')\n",
        "\n",
        "# Assign segments for each subject\n",
        "left = pd.concat([misc.assign_segments(left[left.subject == subj], dur_th=1, dT=dT)\n",
        "                  for subj in left.subject.unique()], axis=0)\n",
        "right = pd.concat([misc.assign_segments(right[right.subject == subj], dur_th=1, dT=dT)\n",
        "                   for subj in right.subject.unique()])\n",
        "aff = pd.concat([misc.assign_segments(aff[aff.subject == subj], dur_th=1, dT=dT)\n",
        "                 for subj in aff.subject.unique()])\n",
        "unaff = pd.concat([misc.assign_segments(unaff[unaff.subject == subj], dur_th=1, dT=dT)\n",
        "                   for subj in unaff.subject.unique()])\n",
        "\n",
        "# All limbs data ddf\n",
        "datadf = {\n",
        "    \"left\": left,\n",
        "    \"right\": right,\n",
        "    \"aff\": aff,\n",
        "    \"unaff\": unaff\n",
        "}"
      ]
    },
    {
      "cell_type": "markdown",
      "metadata": {},
      "source": [
        "#### Parameter ranges for the grid search"
      ]
    },
    {
      "cell_type": "code",
      "execution_count": 47,
      "metadata": {},
      "outputs": [],
      "source": [
        "basedir = \"../data/output\"\n",
        "\n",
        "# Make directory if it does not exist\n",
        "outdir = pathlib.Path(basedir, \"am\")\n",
        "outdir.mkdir(parents=True, exist_ok=True)\n",
        "\n",
        "# GMAC Parameter ranges\n",
        "am_param_ranges = {\n",
        "    \"fc\": [0.01, 0.1, 1],\n",
        "    \"nc\": [1, 2, 4],\n",
        "    \"nam\": list(map(int, [Fs, 5*Fs, 10*Fs]))\n",
        "}\n",
        "\n",
        "# Save params file.\n",
        "with open(pathlib.Path(outdir, \"am_params.json\"), \"w\") as f:\n",
        "    json.dump(am_param_ranges, f, indent=4)\n",
        "\n",
        "dfcols = [\"subject\"] + list(am_param_ranges.keys()) + [\"am\", \"vm\"]"
      ]
    },
    {
      "cell_type": "code",
      "execution_count": 19,
      "metadata": {},
      "outputs": [
        {
          "name": "stdout",
          "output_type": "stream",
          "text": [
            "unaff   4,  26"
          ]
        }
      ],
      "source": [
        "for limbkey in [\"left\", \"right\", \"aff\", \"unaff\"]:\n",
        "    # Which limb?\n",
        "    limbdf = datadf[limbkey]\n",
        "    subjects = limbdf.subject.unique()\n",
        "\n",
        "    # Number of all possible combinations\n",
        "    Ncombs = len(list(misc.generate_param_combinations_am(am_param_ranges)))\n",
        "\n",
        "    # All parameter combinations.\n",
        "    param_combs = list(misc.generate_param_combinations_am(am_param_ranges))\n",
        "\n",
        "    # Estimate pitch for each subject.\n",
        "    accl_cols = ['ax', 'ay', 'az']\n",
        "    dfcols = [\"subject\"] + list(am_param_ranges.keys()) + [\"am\", \"vm\"]\n",
        "\n",
        "    for i, subj in enumerate(subjects):\n",
        "        am_df = pd.DataFrame(columns=dfcols)\n",
        "        # Go through all parameter combinations.\n",
        "        _sinx = limbdf.subject == subj\n",
        "        for j, _pc in enumerate(param_combs):\n",
        "            sys.stdout.write(f\"\\r{limbkey} {i:3d}, {j:3d}\")\n",
        "            df = limbdf[limbdf.subject==subj]\n",
        "            # Compute the vector magnitude\n",
        "            _vmdf = misc.compute_vector_magnitude(df)\n",
        "            # Compute the accl magnitude\n",
        "            _tempam = gmac.estimate_accl_mag(accl=df[accl_cols].values,\n",
        "                                            fs=Fs, fc=_pc[\"fc\"], nc=_pc[\"nc\"],\n",
        "                                            n_am=_pc[\"nam\"])\n",
        "            _tempamdf = pd.DataFrame(np.vstack((_tempam, df.segment.values)).T,\n",
        "                                    columns=[\"am\", \"segment\"], index=df.index)\n",
        "            # Resample accl magnitude to the same frequency as vector magnitude\n",
        "            _amdf = pd.concat([_y.resample(str(1) + 'S').sum()\n",
        "                            for _, _y in _tempamdf.groupby('segment')])\n",
        "            \n",
        "            # Merge the two dataframes\n",
        "            _tempdf = pd.merge(_vmdf, _amdf[\"am\"], left_index=True, right_index=True)\n",
        "\n",
        "            # Update amdf\n",
        "            _n = len(_tempdf)\n",
        "            _subj_am = np.hstack((subj * np.ones((_n, 1)),\n",
        "                                _pc[\"fc\"] * np.ones((_n, 1)),\n",
        "                                _pc[\"nc\"] * np.ones((_n, 1)),\n",
        "                                _pc[\"nam\"] * np.ones((_n, 1)),\n",
        "                                _tempdf.am.values.reshape(-1, 1),\n",
        "                                _tempdf.counts.values.reshape(-1, 1)))\n",
        "            am_df = pd.concat((am_df, pd.DataFrame(_subj_am, columns=dfcols)),\n",
        "                            ignore_index=True)\n",
        "        # Save data regularly\n",
        "        am_df.to_csv(pathlib.Path(outdir, f\"raw_am_{limbkey}_{subj}.csv\").as_posix(), index=False)\n"
      ]
    }
  ],
  "metadata": {
    "colab": {
      "provenance": []
    },
    "kernelspec": {
      "display_name": "ulfunc",
      "language": "python",
      "name": "python3"
    },
    "language_info": {
      "codemirror_mode": {
        "name": "ipython",
        "version": 3
      },
      "file_extension": ".py",
      "mimetype": "text/x-python",
      "name": "python",
      "nbconvert_exporter": "python",
      "pygments_lexer": "ipython3",
      "version": "3.9.16"
    },
    "vscode": {
      "interpreter": {
        "hash": "afcba11dd2daf669f4680c8822ef2b15aa2b775fe4e3866448929bf9bb9938b0"
      }
    }
  },
  "nbformat": 4,
  "nbformat_minor": 0
}
